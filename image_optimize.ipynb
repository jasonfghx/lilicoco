{
  "cells": [
    {
      "cell_type": "markdown",
      "metadata": {
        "id": "o26G8tEwZM3W"
      },
      "source": [
        "Below is a function called `make_image`, that does the following:\n",
        "\n",
        "* Creates an all black image with the given number of rows and columns\n",
        "* Given a list of points, fills in pixels in the horizontal, vertical and diagonal lines that intersect that point according to the colour of that point, to within a given range of the point\n",
        "\n",
        "This algorithm is quite slow, and would benefit from being sped up."
      ]
    },
    {
      "cell_type": "code",
      "execution_count": null,
      "metadata": {
        "colab": {
          "base_uri": "https://localhost:8080/",
          "height": 409
        },
        "id": "iDwDHZdvZM3a",
        "outputId": "db8098b8-6706-4e95-f22d-3b7f49eaeed7"
      },
      "outputs": [
        {
          "output_type": "stream",
          "name": "stdout",
          "text": [
            "0.016715288162231445\n"
          ]
        },
        {
          "output_type": "display_data",
          "data": {
            "text/plain": [
              "<Figure size 640x480 with 1 Axes>"
            ],
            "image/png": "[encoded data removed]"
          },
          "metadata": {}
        }
      ],
      "source": [
        "import numpy as np\n",
        "import matplotlib.pyplot as plt\n",
        "\n",
        "class Point:\n",
        "    def __init__(self, i, j, range, r, g, b):\n",
        "        self.i = i\n",
        "        self.j = j\n",
        "        self.range = range\n",
        "        self.rgb = [r, g, b]\n",
        "\n",
        "def set_point(image, x, y, rgb):\n",
        "    image[y, x, 0] = 0 if rgb[0] == image[y, x, 0] else 255\n",
        "    image[y, x, 1] = 0 if rgb[1] == image[y, x, 1] else 255\n",
        "    image[y, x, 2] = 0 if rgb[2] == image[y, x, 2] else 255\n",
        "\n",
        "def make_image(rows, cols, points):\n",
        "    image = np.zeros((rows, cols, 3), dtype=int)\n",
        "\n",
        "    for j, i in np.ndindex(image.shape[:-1]):\n",
        "        for p in points:\n",
        "            d_i = abs(i - p.i)\n",
        "            d_j = abs(j - p.j)\n",
        "            if d_i > p.range or d_j > p.range:\n",
        "                continue\n",
        "            if d_i == 0 or d_j == 0:\n",
        "                set_point(image, i, j, p.rgb)\n",
        "            if d_i == d_j:\n",
        "                set_point(image, i, j, p.rgb)\n",
        "    return image\n",
        "\n",
        "points = [\n",
        "    Point(10, 15, 9, 255, 0, 0),\n",
        "    Point(39, 25, 20, 0, 255, 0),\n",
        "    Point(28, 25, 12, 0, 255, 255),\n",
        "]\n",
        "import time\n",
        "s_time=time.time()\n",
        "image = make_image(40, 60, points)\n",
        "e_time=time.time()\n",
        "plt.imshow(image)\n",
        "print(e_time-s_time)"
      ]
    },
    {
      "cell_type": "markdown",
      "metadata": {
        "id": "gSwREygmZM3c"
      },
      "source": [
        "## Task 1: Write a modified version of this algorithm with improved performance\n",
        "\n",
        "At the moment, `make_image` checks every single pixel of the image to determine if any of the points affect that pixel. This is very inefficient. Instead, consider an approach that considers which pixels are affected for each point. Implement your approach in the `make_image_task_1` function in the following cell."
      ]
    },
    {
      "cell_type": "code",
      "execution_count": null,
      "metadata": {
        "id": "W4_KMg8RZM3c"
      },
      "outputs": [],
      "source": [
        "def make_image_task_1(rows, cols, points):\n",
        "    \"\"\"\n",
        "    YOUR DESCRIPTION HERE\n",
        "    \"\"\"\n",
        "    image = np.zeros((rows, cols, 3), dtype=int)\n",
        "\n",
        "    #TODO YOUR IMPLEMENTATION HERE\n",
        "\n",
        "    return image\n",
        "\n",
        "points = [\n",
        "    Point(10, 15, 8, 255, 0, 0),\n",
        "    Point(39, 25, 20, 0, 255, 0),\n",
        "    Point(28, 25, 12, 0, 255, 255),\n",
        "]\n",
        "image = make_image_task_1(40, 60, points)\n",
        "plt.imshow(image)\n"
      ]
    },
    {
      "cell_type": "code",
      "source": [
        "import time\n",
        "\n",
        "\n",
        "\n",
        "\n",
        "\n",
        "def make_image_task_1(rows, cols, points):\n",
        "    image = np.zeros((rows, cols, 3), dtype=int)\n",
        "\n",
        "    for p in points:\n",
        "        # Determine the range of affected pixels for the current point\n",
        "        min_i = max(0, p.i - p.range)\n",
        "        max_i = min(rows - 1, p.i + p.range)\n",
        "        min_j = max(0, p.j - p.range)\n",
        "        max_j = min(cols - 1, p.j + p.range)\n",
        "\n",
        "        # Iterate over the affected region and set pixels accordingly\n",
        "        for i in range(min_i, max_i + 1):\n",
        "            for j in range(min_j, max_j + 1):\n",
        "                d_i = abs(i - p.i)\n",
        "                d_j = abs(j - p.j)\n",
        "                if d_i == 0 or d_j == 0 or d_i == d_j:\n",
        "                    set_point(image, j, i, p.rgb)\n",
        "\n",
        "    return image\n",
        "points = [\n",
        "    Point(10, 15, 8, 255, 0, 0),\n",
        "    Point(39, 25, 20, 0, 255, 0),\n",
        "    Point(28, 25, 12, 0, 255, 255),\n",
        "]\n",
        "s_time=time.time()\n",
        "image = make_image_task_1(40, 60, points)\n",
        "e_time=time.time()\n",
        "plt.imshow(image)\n",
        "print(e_time-s_time)"
      ],
      "metadata": {
        "colab": {
          "base_uri": "https://localhost:8080/",
          "height": 409
        },
        "id": "D8kLZGXDbjxc",
        "outputId": "a569cb77-6bb4-46e7-f211-47b546d5f3ff"
      },
      "execution_count": null,
      "outputs": [
        {
          "output_type": "stream",
          "name": "stdout",
          "text": [
            "0.0010416507720947266\n"
          ]
        },
        {
          "output_type": "display_data",
          "data": {
            "text/plain": [
              "<Figure size 640x480 with 1 Axes>"
            ],
            "image/png": "[encoded data removed]"
          },
          "metadata": {}
        }
      ]
    },
    {
      "cell_type": "markdown",
      "metadata": {
        "id": "HFNZ1E5KZM3d"
      },
      "source": [
        "## Task 2: Further improve the performance\n",
        "\n",
        "Although we have improved the function algorithmically, the solution is still quite slow because of the python runtime. Apply techniques to further improve its performance. You might consider using:\n",
        "* Numba\n",
        "* Cython\n",
        "* Threading / multiprocessing\n",
        "\n",
        "Evaluate which approach is most likely to give you reasonable performance and implement it below in a function names `make_image_task_2`. Please feel free to:\n",
        "* write any additional functions required to make this work,\n",
        "* change the method signature of `make_image_task_2` including its parameters.\n",
        "\n",
        "Note that, for this task, you can use the abovementioned approaches to accelerate the `make_image` functon in case you did not successfully implement `make_image_task_1` of task 1."
      ]
    },
    {
      "cell_type": "code",
      "execution_count": null,
      "metadata": {
        "id": "fhE0Sd-VZM3e"
      },
      "outputs": [],
      "source": [
        "#TODO Implement the code related to task 2 here.\n"
      ]
    },
    {
      "cell_type": "code",
      "source": [
        "!python -m unittest test_string_utils"
      ],
      "metadata": {
        "colab": {
          "base_uri": "https://localhost:8080/"
        },
        "id": "DFCGMv8LcUFv",
        "outputId": "1022cd54-2ab6-4728-85c5-0424e4f3e1df"
      },
      "execution_count": null,
      "outputs": [
        {
          "output_type": "stream",
          "name": "stdout",
          "text": [
            "..F\n",
            "======================================================================\n",
            "FAIL: test_uppercase (test_string_utils.TestStringUtils)\n",
            "----------------------------------------------------------------------\n",
            "Traceback (most recent call last):\n",
            "  File \"/content/test_string_utils.py\", line 10, in test_uppercase\n",
            "    self.assertEqual(uppercase(''), ' ')\n",
            "AssertionError: '' != ' '\n",
            "+  \n",
            "\n",
            "----------------------------------------------------------------------\n",
            "Ran 3 tests in 0.001s\n",
            "\n",
            "FAILED (failures=1)\n"
          ]
        }
      ]
    }
  ],
  "metadata": {
    "kernelspec": {
      "display_name": "Python 3.10.8 64-bit (microsoft store)",
      "language": "python",
      "name": "python3"
    },
    "language_info": {
      "codemirror_mode": {
        "name": "ipython",
        "version": 3
      },
      "file_extension": ".py",
      "mimetype": "text/x-python",
      "name": "python",
      "nbconvert_exporter": "python",
      "pygments_lexer": "ipython3",
      "version": "3.11.5"
    },
    "orig_nbformat": 4,
    "vscode": {
      "interpreter": {
        "hash": "f8f431218aa0644db2df10bce1f0c79b09fe0db9d8f8a1df1872359e271d1860"
      }
    },
    "colab": {
      "provenance": []
    }
  },
  "nbformat": 4,
  "nbformat_minor": 0
}