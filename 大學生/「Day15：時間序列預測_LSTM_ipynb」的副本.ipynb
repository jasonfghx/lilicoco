{
  "nbformat": 4,
  "nbformat_minor": 0,
  "metadata": {
    "colab": {
      "provenance": [],
      "gpuType": "T4"
    },
    "kernelspec": {
      "name": "python3",
      "display_name": "Python 3"
    },
    "language_info": {
      "name": "python"
    },
    "accelerator": "GPU"
  },
  "cells": [
    {
      "cell_type": "markdown",
      "source": [
        "在本節中，我們將深入探索如何使用深度學習中的循環神經網絡（RNN），特別是長短期記憶網絡（LSTM），來進行時間序列數據的預測。我們將使用PyTorch框架，從數據預處理、模型構建、訓練到評估，完整地演示如何應用LSTM模型進行股票價格預測。\n",
        "![https://ithelp.ithome.com.tw/upload/images/20240930/20120549DigLZPmvLx.png](https://ithelp.ithome.com.tw/upload/images/20240930/20120549DigLZPmvLx.png)"
      ],
      "metadata": {
        "id": "rRUk9N7G28nH"
      }
    },
    {
      "cell_type": "code",
      "source": [
        "# Colab 進行matplotlib繪圖時顯示繁體中文\n",
        "# 下載台北思源黑體並命名taipei_sans_tc_beta.ttf，移至指定路徑\n",
        "!wget -O TaipeiSansTCBeta-Regular.ttf https://drive.google.com/uc?id=1eGAsTN1HBpJAkeVM57_C7ccp7hbgSz3_&export=download\n",
        "\n",
        "import matplotlib\n",
        "\n",
        "# 改style要在改font之前\n",
        "# plt.style.use('seaborn')\n",
        "\n",
        "matplotlib.font_manager.fontManager.addfont('TaipeiSansTCBeta-Regular.ttf')\n",
        "matplotlib.rc('font', family='Taipei Sans TC Beta')"
      ],
      "metadata": {
        "colab": {
          "base_uri": "https://localhost:8080/"
        },
        "id": "FPcIuAZS7qFK",
        "outputId": "c8016ca7-944e-4217-8ff8-0c8c33e2d866"
      },
      "execution_count": null,
      "outputs": [
        {
          "output_type": "stream",
          "name": "stdout",
          "text": [
            "--2024-10-11 04:24:06--  https://drive.google.com/uc?id=1eGAsTN1HBpJAkeVM57_C7ccp7hbgSz3_\n",
            "Resolving drive.google.com (drive.google.com)... 142.251.2.139, 142.251.2.113, 142.251.2.100, ...\n",
            "Connecting to drive.google.com (drive.google.com)|142.251.2.139|:443... connected.\n",
            "HTTP request sent, awaiting response... 303 See Other\n",
            "Location: https://drive.usercontent.google.com/download?id=1eGAsTN1HBpJAkeVM57_C7ccp7hbgSz3_ [following]\n",
            "--2024-10-11 04:24:06--  https://drive.usercontent.google.com/download?id=1eGAsTN1HBpJAkeVM57_C7ccp7hbgSz3_\n",
            "Resolving drive.usercontent.google.com (drive.usercontent.google.com)... 74.125.137.132, 2607:f8b0:4023:c03::84\n",
            "Connecting to drive.usercontent.google.com (drive.usercontent.google.com)|74.125.137.132|:443... connected.\n",
            "HTTP request sent, awaiting response... 200 OK\n",
            "Length: 20659344 (20M) [application/octet-stream]\n",
            "Saving to: ‘TaipeiSansTCBeta-Regular.ttf’\n",
            "\n",
            "TaipeiSansTCBeta-Re 100%[===================>]  19.70M  78.9MB/s    in 0.2s    \n",
            "\n",
            "2024-10-11 04:24:09 (78.9 MB/s) - ‘TaipeiSansTCBeta-Regular.ttf’ saved [20659344/20659344]\n",
            "\n"
          ]
        }
      ]
    },
    {
      "cell_type": "markdown",
      "source": [
        "### **一、引言**\n",
        "\n",
        "#### **1. 時間序列數據的特殊性**\n",
        "\n",
        "- **時間依賴性**：時間序列數據的當前值與其過去的值密切相關。\n",
        "- **非平穩性**：金融時間序列通常具有趨勢、季節性和波動性等特點。\n",
        "- **高噪聲**：市場受多種因素影響，數據中可能存在大量噪聲。\n",
        "\n",
        "#### **2. 為什麼選擇RNN和LSTM**\n",
        "\n",
        "- **RNN（循環神經網絡）**：擅長處理序列數據，能夠捕捉時間序列中的依賴關係。\n",
        "- **LSTM（長短期記憶網絡）**：一種特殊的RNN，解決了普通RNN的長程依賴和梯度消失問題，更適合處理長序列數據。\n",
        "\n",
        "#### **3. PyTorch簡介**\n",
        "\n",
        "- [**PyTorch**](https://pytorch.org/) 是一個開源的深度學習框架，由Facebook的人工智慧研究小組開發。它具有以下特點：\n",
        "\n",
        "  - **動態計算圖**：允許在運行時改變網絡的結構，方便調試和開發。\n",
        "  - **高效的張量運算**：支持GPU加速，能夠處理大型的數據和模型。\n",
        "  - **豐富的社區資源**：擁有大量的教程、範例和第三方庫，便於學習和使用。\n",
        "\n",
        "*在本節中，我們將使用PyTorch來構建和訓練LSTM模型，進行股票價格的預測。*\n",
        "![https://ithelp.ithome.com.tw/upload/images/20240930/20120549JapVx4w2xK.png](https://ithelp.ithome.com.tw/upload/images/20240930/20120549JapVx4w2xK.png)\n",
        "可以藉由下面指令來安裝：\n",
        "```python\n",
        "pip3 install torch torchvision torchaudio --index-url https://download.pytorch.org/whl/cu118\n",
        "```\n",
        "另外須注意 `Pytorch` 本身需要注意自身環境的配置來選取對應的[安裝指令](https://pytorch.org/get-started/locally/)，更多[以前的 `Pytorch` 版本安裝](https://pytorch.org/get-started/previous-versions/)也可這個連結。\n",
        "![https://ithelp.ithome.com.tw/upload/images/20240930/20120549eNf391EEf6.png](https://ithelp.ithome.com.tw/upload/images/20240930/20120549eNf391EEf6.png)\n",
        "另外深度學習的相關知識也可以參考[連結1](https://ithelp.ithome.com.tw/articles/10321650)、[連結2](https://ithelp.ithome.com.tw/articles/10322059)、[連結3](https://www.youtube.com/watch?v=zuiACAhRUzA&ab_channel=%E9%99%B3%E7%B8%95%E5%84%82VivianNTUMiuLab)\n",
        "#### **4. LSTM 簡介**\n",
        "\n",
        "- **LSTM（長短期記憶網絡）** 是一種特殊的循環神經網絡，由 Hochreiter 和 Schmidhuber 於 1997 年提出，專門用於解決長期依賴問題。\n",
        "\n",
        "- **LSTM 的核心特點**：\n",
        "\n",
        "  - **記憶單元（Cell State, `C`）**：負責長期信息的傳遞，能夠保留重要的歷史信息。\n",
        "  - **門控機制**：包含遺忘門、輸入門和輸出門，控制信息在網絡中的流動。\n",
        "    - **遺忘門（Forget Gate, `f`）**：決定需要遺忘多少舊信息。\n",
        "    - **輸入門（Input Gate, `i`）**：決定有多少新信息需要寫入記憶單元。\n",
        "    - **輸出門（Output Gate, `O`）**：決定輸出多少信息到下一個時間步。\n",
        "\n",
        "- **為什麼 LSTM 適合時間序列預測**：\n",
        "\n",
        "  - **長期依賴建模**：能夠有效捕捉長期的時間依賴性，適合處理長序列數據。\n",
        "  - **解決梯度消失和爆炸問題**：通過門控機制，緩解了 RNN 中常見的梯度問題。\n",
        "  - **靈活性**：可應用於各種序列任務，如語音識別、機器翻譯和時間序列預測等。\n",
        " ![https://ithelp.ithome.com.tw/upload/images/20240930/2012054964gUgpc4OT.jpg](https://ithelp.ithome.com.tw/upload/images/20240930/2012054964gUgpc4OT.jpg)\n",
        "\n",
        "*接下來，我們將利用 LSTM 的這些特性，構建一個用於股票價格預測的深度學習模型。*\n",
        "\n",
        "\n",
        "---\n",
        "\n",
        "### **二、數據準備**\n",
        "\n",
        "#### **1. 數據獲取**\n",
        "\n",
        "我們將使用`yfinance`庫獲取蘋果公司（AAPL）的股票數據。"
      ],
      "metadata": {
        "id": "b2R4q8sZ7JQV"
      }
    },
    {
      "cell_type": "code",
      "source": [
        "import pandas as pd\n",
        "import numpy as np\n",
        "import yfinance as yf\n",
        "\n",
        "# 獲取數據\n",
        "data = yf.download('AAPL', start='2015-01-01', end='2021-01-01')\n",
        "\n",
        "# 提取收盤價\n",
        "data = data[['Adj Close']]\n",
        "data.rename(columns={'Adj Close': 'Close'}, inplace=True)"
      ],
      "metadata": {
        "colab": {
          "base_uri": "https://localhost:8080/"
        },
        "id": "P-n97lX97Ufe",
        "outputId": "2c83d67d-cc25-468b-ddac-1d44da222737"
      },
      "execution_count": null,
      "outputs": [
        {
          "output_type": "stream",
          "name": "stderr",
          "text": [
            "\r[*********************100%***********************]  1 of 1 completed\n",
            "<ipython-input-3-07b601ef8701>:10: SettingWithCopyWarning: \n",
            "A value is trying to be set on a copy of a slice from a DataFrame\n",
            "\n",
            "See the caveats in the documentation: https://pandas.pydata.org/pandas-docs/stable/user_guide/indexing.html#returning-a-view-versus-a-copy\n",
            "  data.rename(columns={'Adj Close': 'Close'}, inplace=True)\n"
          ]
        }
      ]
    },
    {
      "cell_type": "code",
      "source": [
        "data"
      ],
      "metadata": {
        "colab": {
          "base_uri": "https://localhost:8080/",
          "height": 455
        },
        "id": "DgHLzwryjtFH",
        "outputId": "69720674-9840-417d-b461-9d5081dc4b61"
      },
      "execution_count": null,
      "outputs": [
        {
          "output_type": "execute_result",
          "data": {
            "text/plain": [
              "                 Close\n",
              "Date                  \n",
              "2015-01-02   24.373960\n",
              "2015-01-05   23.687302\n",
              "2015-01-06   23.689529\n",
              "2015-01-07   24.021713\n",
              "2015-01-08   24.944689\n",
              "...                ...\n",
              "2020-12-24  129.189529\n",
              "2020-12-28  133.810074\n",
              "2020-12-29  132.028381\n",
              "2020-12-30  130.902649\n",
              "2020-12-31  129.894333\n",
              "\n",
              "[1511 rows x 1 columns]"
            ],
            "text/html": [
              "\n",
              "  <div id=\"df-59cd4458-3c91-4d73-b968-c9ef4c5ae0c8\" class=\"colab-df-container\">\n",
              "    <div>\n",
              "<style scoped>\n",
              "    .dataframe tbody tr th:only-of-type {\n",
              "        vertical-align: middle;\n",
              "    }\n",
              "\n",
              "    .dataframe tbody tr th {\n",
              "        vertical-align: top;\n",
              "    }\n",
              "\n",
              "    .dataframe thead th {\n",
              "        text-align: right;\n",
              "    }\n",
              "</style>\n",
              "<table border=\"1\" class=\"dataframe\">\n",
              "  <thead>\n",
              "    <tr style=\"text-align: right;\">\n",
              "      <th></th>\n",
              "      <th>Close</th>\n",
              "    </tr>\n",
              "    <tr>\n",
              "      <th>Date</th>\n",
              "      <th></th>\n",
              "    </tr>\n",
              "  </thead>\n",
              "  <tbody>\n",
              "    <tr>\n",
              "      <th>2015-01-02</th>\n",
              "      <td>24.373960</td>\n",
              "    </tr>\n",
              "    <tr>\n",
              "      <th>2015-01-05</th>\n",
              "      <td>23.687302</td>\n",
              "    </tr>\n",
              "    <tr>\n",
              "      <th>2015-01-06</th>\n",
              "      <td>23.689529</td>\n",
              "    </tr>\n",
              "    <tr>\n",
              "      <th>2015-01-07</th>\n",
              "      <td>24.021713</td>\n",
              "    </tr>\n",
              "    <tr>\n",
              "      <th>2015-01-08</th>\n",
              "      <td>24.944689</td>\n",
              "    </tr>\n",
              "    <tr>\n",
              "      <th>...</th>\n",
              "      <td>...</td>\n",
              "    </tr>\n",
              "    <tr>\n",
              "      <th>2020-12-24</th>\n",
              "      <td>129.189529</td>\n",
              "    </tr>\n",
              "    <tr>\n",
              "      <th>2020-12-28</th>\n",
              "      <td>133.810074</td>\n",
              "    </tr>\n",
              "    <tr>\n",
              "      <th>2020-12-29</th>\n",
              "      <td>132.028381</td>\n",
              "    </tr>\n",
              "    <tr>\n",
              "      <th>2020-12-30</th>\n",
              "      <td>130.902649</td>\n",
              "    </tr>\n",
              "    <tr>\n",
              "      <th>2020-12-31</th>\n",
              "      <td>129.894333</td>\n",
              "    </tr>\n",
              "  </tbody>\n",
              "</table>\n",
              "<p>1511 rows × 1 columns</p>\n",
              "</div>\n",
              "    <div class=\"colab-df-buttons\">\n",
              "\n",
              "  <div class=\"colab-df-container\">\n",
              "    <button class=\"colab-df-convert\" onclick=\"convertToInteractive('df-59cd4458-3c91-4d73-b968-c9ef4c5ae0c8')\"\n",
              "            title=\"Convert this dataframe to an interactive table.\"\n",
              "            style=\"display:none;\">\n",
              "\n",
              "  <svg xmlns=\"http://www.w3.org/2000/svg\" height=\"24px\" viewBox=\"0 -960 960 960\">\n",
              "    <path d=\"M120-120v-720h720v720H120Zm60-500h600v-160H180v160Zm220 220h160v-160H400v160Zm0 220h160v-160H400v160ZM180-400h160v-160H180v160Zm440 0h160v-160H620v160ZM180-180h160v-160H180v160Zm440 0h160v-160H620v160Z\"/>\n",
              "  </svg>\n",
              "    </button>\n",
              "\n",
              "  <style>\n",
              "    .colab-df-container {\n",
              "      display:flex;\n",
              "      gap: 12px;\n",
              "    }\n",
              "\n",
              "    .colab-df-convert {\n",
              "      background-color: #E8F0FE;\n",
              "      border: none;\n",
              "      border-radius: 50%;\n",
              "      cursor: pointer;\n",
              "      display: none;\n",
              "      fill: #1967D2;\n",
              "      height: 32px;\n",
              "      padding: 0 0 0 0;\n",
              "      width: 32px;\n",
              "    }\n",
              "\n",
              "    .colab-df-convert:hover {\n",
              "      background-color: #E2EBFA;\n",
              "      box-shadow: 0px 1px 2px rgba(60, 64, 67, 0.3), 0px 1px 3px 1px rgba(60, 64, 67, 0.15);\n",
              "      fill: #174EA6;\n",
              "    }\n",
              "\n",
              "    .colab-df-buttons div {\n",
              "      margin-bottom: 4px;\n",
              "    }\n",
              "\n",
              "    [theme=dark] .colab-df-convert {\n",
              "      background-color: #3B4455;\n",
              "      fill: #D2E3FC;\n",
              "    }\n",
              "\n",
              "    [theme=dark] .colab-df-convert:hover {\n",
              "      background-color: #434B5C;\n",
              "      box-shadow: 0px 1px 3px 1px rgba(0, 0, 0, 0.15);\n",
              "      filter: drop-shadow(0px 1px 2px rgba(0, 0, 0, 0.3));\n",
              "      fill: #FFFFFF;\n",
              "    }\n",
              "  </style>\n",
              "\n",
              "    <script>\n",
              "      const buttonEl =\n",
              "        document.querySelector('#df-59cd4458-3c91-4d73-b968-c9ef4c5ae0c8 button.colab-df-convert');\n",
              "      buttonEl.style.display =\n",
              "        google.colab.kernel.accessAllowed ? 'block' : 'none';\n",
              "\n",
              "      async function convertToInteractive(key) {\n",
              "        const element = document.querySelector('#df-59cd4458-3c91-4d73-b968-c9ef4c5ae0c8');\n",
              "        const dataTable =\n",
              "          await google.colab.kernel.invokeFunction('convertToInteractive',\n",
              "                                                    [key], {});\n",
              "        if (!dataTable) return;\n",
              "\n",
              "        const docLinkHtml = 'Like what you see? Visit the ' +\n",
              "          '<a target=\"_blank\" href=https://colab.research.google.com/notebooks/data_table.ipynb>data table notebook</a>'\n",
              "          + ' to learn more about interactive tables.';\n",
              "        element.innerHTML = '';\n",
              "        dataTable['output_type'] = 'display_data';\n",
              "        await google.colab.output.renderOutput(dataTable, element);\n",
              "        const docLink = document.createElement('div');\n",
              "        docLink.innerHTML = docLinkHtml;\n",
              "        element.appendChild(docLink);\n",
              "      }\n",
              "    </script>\n",
              "  </div>\n",
              "\n",
              "\n",
              "<div id=\"df-b9f6384f-f30a-4959-baf9-dd93448028ff\">\n",
              "  <button class=\"colab-df-quickchart\" onclick=\"quickchart('df-b9f6384f-f30a-4959-baf9-dd93448028ff')\"\n",
              "            title=\"Suggest charts\"\n",
              "            style=\"display:none;\">\n",
              "\n",
              "<svg xmlns=\"http://www.w3.org/2000/svg\" height=\"24px\"viewBox=\"0 0 24 24\"\n",
              "     width=\"24px\">\n",
              "    <g>\n",
              "        <path d=\"M19 3H5c-1.1 0-2 .9-2 2v14c0 1.1.9 2 2 2h14c1.1 0 2-.9 2-2V5c0-1.1-.9-2-2-2zM9 17H7v-7h2v7zm4 0h-2V7h2v10zm4 0h-2v-4h2v4z\"/>\n",
              "    </g>\n",
              "</svg>\n",
              "  </button>\n",
              "\n",
              "<style>\n",
              "  .colab-df-quickchart {\n",
              "      --bg-color: #E8F0FE;\n",
              "      --fill-color: #1967D2;\n",
              "      --hover-bg-color: #E2EBFA;\n",
              "      --hover-fill-color: #174EA6;\n",
              "      --disabled-fill-color: #AAA;\n",
              "      --disabled-bg-color: #DDD;\n",
              "  }\n",
              "\n",
              "  [theme=dark] .colab-df-quickchart {\n",
              "      --bg-color: #3B4455;\n",
              "      --fill-color: #D2E3FC;\n",
              "      --hover-bg-color: #434B5C;\n",
              "      --hover-fill-color: #FFFFFF;\n",
              "      --disabled-bg-color: #3B4455;\n",
              "      --disabled-fill-color: #666;\n",
              "  }\n",
              "\n",
              "  .colab-df-quickchart {\n",
              "    background-color: var(--bg-color);\n",
              "    border: none;\n",
              "    border-radius: 50%;\n",
              "    cursor: pointer;\n",
              "    display: none;\n",
              "    fill: var(--fill-color);\n",
              "    height: 32px;\n",
              "    padding: 0;\n",
              "    width: 32px;\n",
              "  }\n",
              "\n",
              "  .colab-df-quickchart:hover {\n",
              "    background-color: var(--hover-bg-color);\n",
              "    box-shadow: 0 1px 2px rgba(60, 64, 67, 0.3), 0 1px 3px 1px rgba(60, 64, 67, 0.15);\n",
              "    fill: var(--button-hover-fill-color);\n",
              "  }\n",
              "\n",
              "  .colab-df-quickchart-complete:disabled,\n",
              "  .colab-df-quickchart-complete:disabled:hover {\n",
              "    background-color: var(--disabled-bg-color);\n",
              "    fill: var(--disabled-fill-color);\n",
              "    box-shadow: none;\n",
              "  }\n",
              "\n",
              "  .colab-df-spinner {\n",
              "    border: 2px solid var(--fill-color);\n",
              "    border-color: transparent;\n",
              "    border-bottom-color: var(--fill-color);\n",
              "    animation:\n",
              "      spin 1s steps(1) infinite;\n",
              "  }\n",
              "\n",
              "  @keyframes spin {\n",
              "    0% {\n",
              "      border-color: transparent;\n",
              "      border-bottom-color: var(--fill-color);\n",
              "      border-left-color: var(--fill-color);\n",
              "    }\n",
              "    20% {\n",
              "      border-color: transparent;\n",
              "      border-left-color: var(--fill-color);\n",
              "      border-top-color: var(--fill-color);\n",
              "    }\n",
              "    30% {\n",
              "      border-color: transparent;\n",
              "      border-left-color: var(--fill-color);\n",
              "      border-top-color: var(--fill-color);\n",
              "      border-right-color: var(--fill-color);\n",
              "    }\n",
              "    40% {\n",
              "      border-color: transparent;\n",
              "      border-right-color: var(--fill-color);\n",
              "      border-top-color: var(--fill-color);\n",
              "    }\n",
              "    60% {\n",
              "      border-color: transparent;\n",
              "      border-right-color: var(--fill-color);\n",
              "    }\n",
              "    80% {\n",
              "      border-color: transparent;\n",
              "      border-right-color: var(--fill-color);\n",
              "      border-bottom-color: var(--fill-color);\n",
              "    }\n",
              "    90% {\n",
              "      border-color: transparent;\n",
              "      border-bottom-color: var(--fill-color);\n",
              "    }\n",
              "  }\n",
              "</style>\n",
              "\n",
              "  <script>\n",
              "    async function quickchart(key) {\n",
              "      const quickchartButtonEl =\n",
              "        document.querySelector('#' + key + ' button');\n",
              "      quickchartButtonEl.disabled = true;  // To prevent multiple clicks.\n",
              "      quickchartButtonEl.classList.add('colab-df-spinner');\n",
              "      try {\n",
              "        const charts = await google.colab.kernel.invokeFunction(\n",
              "            'suggestCharts', [key], {});\n",
              "      } catch (error) {\n",
              "        console.error('Error during call to suggestCharts:', error);\n",
              "      }\n",
              "      quickchartButtonEl.classList.remove('colab-df-spinner');\n",
              "      quickchartButtonEl.classList.add('colab-df-quickchart-complete');\n",
              "    }\n",
              "    (() => {\n",
              "      let quickchartButtonEl =\n",
              "        document.querySelector('#df-b9f6384f-f30a-4959-baf9-dd93448028ff button');\n",
              "      quickchartButtonEl.style.display =\n",
              "        google.colab.kernel.accessAllowed ? 'block' : 'none';\n",
              "    })();\n",
              "  </script>\n",
              "</div>\n",
              "\n",
              "  <div id=\"id_46281ca3-cf3f-44a5-94e5-f4bad9d18a26\">\n",
              "    <style>\n",
              "      .colab-df-generate {\n",
              "        background-color: #E8F0FE;\n",
              "        border: none;\n",
              "        border-radius: 50%;\n",
              "        cursor: pointer;\n",
              "        display: none;\n",
              "        fill: #1967D2;\n",
              "        height: 32px;\n",
              "        padding: 0 0 0 0;\n",
              "        width: 32px;\n",
              "      }\n",
              "\n",
              "      .colab-df-generate:hover {\n",
              "        background-color: #E2EBFA;\n",
              "        box-shadow: 0px 1px 2px rgba(60, 64, 67, 0.3), 0px 1px 3px 1px rgba(60, 64, 67, 0.15);\n",
              "        fill: #174EA6;\n",
              "      }\n",
              "\n",
              "      [theme=dark] .colab-df-generate {\n",
              "        background-color: #3B4455;\n",
              "        fill: #D2E3FC;\n",
              "      }\n",
              "\n",
              "      [theme=dark] .colab-df-generate:hover {\n",
              "        background-color: #434B5C;\n",
              "        box-shadow: 0px 1px 3px 1px rgba(0, 0, 0, 0.15);\n",
              "        filter: drop-shadow(0px 1px 2px rgba(0, 0, 0, 0.3));\n",
              "        fill: #FFFFFF;\n",
              "      }\n",
              "    </style>\n",
              "    <button class=\"colab-df-generate\" onclick=\"generateWithVariable('data')\"\n",
              "            title=\"Generate code using this dataframe.\"\n",
              "            style=\"display:none;\">\n",
              "\n",
              "  <svg xmlns=\"http://www.w3.org/2000/svg\" height=\"24px\"viewBox=\"0 0 24 24\"\n",
              "       width=\"24px\">\n",
              "    <path d=\"M7,19H8.4L18.45,9,17,7.55,7,17.6ZM5,21V16.75L18.45,3.32a2,2,0,0,1,2.83,0l1.4,1.43a1.91,1.91,0,0,1,.58,1.4,1.91,1.91,0,0,1-.58,1.4L9.25,21ZM18.45,9,17,7.55Zm-12,3A5.31,5.31,0,0,0,4.9,8.1,5.31,5.31,0,0,0,1,6.5,5.31,5.31,0,0,0,4.9,4.9,5.31,5.31,0,0,0,6.5,1,5.31,5.31,0,0,0,8.1,4.9,5.31,5.31,0,0,0,12,6.5,5.46,5.46,0,0,0,6.5,12Z\"/>\n",
              "  </svg>\n",
              "    </button>\n",
              "    <script>\n",
              "      (() => {\n",
              "      const buttonEl =\n",
              "        document.querySelector('#id_46281ca3-cf3f-44a5-94e5-f4bad9d18a26 button.colab-df-generate');\n",
              "      buttonEl.style.display =\n",
              "        google.colab.kernel.accessAllowed ? 'block' : 'none';\n",
              "\n",
              "      buttonEl.onclick = () => {\n",
              "        google.colab.notebook.generateWithVariable('data');\n",
              "      }\n",
              "      })();\n",
              "    </script>\n",
              "  </div>\n",
              "\n",
              "    </div>\n",
              "  </div>\n"
            ],
            "application/vnd.google.colaboratory.intrinsic+json": {
              "type": "dataframe",
              "variable_name": "data",
              "summary": "{\n  \"name\": \"data\",\n  \"rows\": 1511,\n  \"fields\": [\n    {\n      \"column\": \"Date\",\n      \"properties\": {\n        \"dtype\": \"date\",\n        \"min\": \"2015-01-02 00:00:00\",\n        \"max\": \"2020-12-31 00:00:00\",\n        \"num_unique_values\": 1511,\n        \"samples\": [\n          \"2018-08-09 00:00:00\",\n          \"2017-06-15 00:00:00\",\n          \"2020-07-06 00:00:00\"\n        ],\n        \"semantic_type\": \"\",\n        \"description\": \"\"\n      }\n    },\n    {\n      \"column\": \"Close\",\n      \"properties\": {\n        \"dtype\": \"number\",\n        \"std\": 25.11367462415837,\n        \"min\": 20.72003746032715,\n        \"max\": 133.81007385253906,\n        \"num_unique_values\": 1490,\n        \"samples\": [\n          53.0575065612793,\n          23.37130355834961,\n          22.021732330322266\n        ],\n        \"semantic_type\": \"\",\n        \"description\": \"\"\n      }\n    }\n  ]\n}"
            }
          },
          "metadata": {},
          "execution_count": 6
        }
      ]
    },
    {
      "cell_type": "markdown",
      "source": [
        "#### **2. 數據可視化**\n"
      ],
      "metadata": {
        "id": "i0_eUaZE7YkW"
      }
    },
    {
      "cell_type": "code",
      "execution_count": null,
      "metadata": {
        "colab": {
          "base_uri": "https://localhost:8080/",
          "height": 564
        },
        "id": "WOw0LR4j1sVG",
        "outputId": "7f4ba65d-3111-4074-b31a-a9505c517d1c"
      },
      "outputs": [
        {
          "output_type": "display_data",
          "data": {
            "text/plain": [
              "<Figure size 1200x600 with 1 Axes>"
            ],
            "image/png": "[encoded data removed]"
          },
          "metadata": {}
        }
      ],
      "source": [
        "import matplotlib.pyplot as plt\n",
        "\n",
        "plt.figure(figsize=(12,6))\n",
        "plt.plot(data['Close'])\n",
        "plt.title('AAPL 股票收盤價')\n",
        "plt.xlabel('日期')\n",
        "plt.ylabel('價格')\n",
        "plt.show()"
      ]
    },
    {
      "cell_type": "markdown",
      "source": [
        "#### **3. 數據歸一化**\n",
        "\n",
        "為了提高模型訓練的效率，我們需要將數據歸一化到 `[0,1]` 區間。"
      ],
      "metadata": {
        "id": "yy4p5MG575oM"
      }
    },
    {
      "cell_type": "code",
      "source": [
        "from sklearn.preprocessing import MinMaxScaler\n",
        "\n",
        "scaler = MinMaxScaler(feature_range=(0, 1))\n",
        "data['Close'] = scaler.fit_transform(data[['Close']])"
      ],
      "metadata": {
        "colab": {
          "base_uri": "https://localhost:8080/"
        },
        "id": "htRODf1c76H_",
        "outputId": "c4e846c5-f483-4f26-cf84-7cc8a084ff4e"
      },
      "execution_count": null,
      "outputs": [
        {
          "output_type": "stream",
          "name": "stderr",
          "text": [
            "<ipython-input-8-f5cfbf6ee404>:4: SettingWithCopyWarning: \n",
            "A value is trying to be set on a copy of a slice from a DataFrame.\n",
            "Try using .loc[row_indexer,col_indexer] = value instead\n",
            "\n",
            "See the caveats in the documentation: https://pandas.pydata.org/pandas-docs/stable/user_guide/indexing.html#returning-a-view-versus-a-copy\n",
            "  data['Close'] = scaler.fit_transform(data[['Close']])\n"
          ]
        }
      ]
    },
    {
      "cell_type": "code",
      "source": [
        "data['Close']"
      ],
      "metadata": {
        "colab": {
          "base_uri": "https://localhost:8080/",
          "height": 489
        },
        "id": "tg-UyYKVkous",
        "outputId": "416f215f-4a8d-46ba-fdeb-762db9f059af"
      },
      "execution_count": null,
      "outputs": [
        {
          "output_type": "execute_result",
          "data": {
            "text/plain": [
              "Date\n",
              "2015-01-02    0.032310\n",
              "2015-01-05    0.026238\n",
              "2015-01-06    0.026258\n",
              "2015-01-07    0.029195\n",
              "2015-01-08    0.037357\n",
              "                ...   \n",
              "2020-12-24    0.959143\n",
              "2020-12-28    1.000000\n",
              "2020-12-29    0.984245\n",
              "2020-12-30    0.974291\n",
              "2020-12-31    0.965375\n",
              "Name: Close, Length: 1511, dtype: float64"
            ],
            "text/html": [
              "<div>\n",
              "<style scoped>\n",
              "    .dataframe tbody tr th:only-of-type {\n",
              "        vertical-align: middle;\n",
              "    }\n",
              "\n",
              "    .dataframe tbody tr th {\n",
              "        vertical-align: top;\n",
              "    }\n",
              "\n",
              "    .dataframe thead th {\n",
              "        text-align: right;\n",
              "    }\n",
              "</style>\n",
              "<table border=\"1\" class=\"dataframe\">\n",
              "  <thead>\n",
              "    <tr style=\"text-align: right;\">\n",
              "      <th></th>\n",
              "      <th>Close</th>\n",
              "    </tr>\n",
              "    <tr>\n",
              "      <th>Date</th>\n",
              "      <th></th>\n",
              "    </tr>\n",
              "  </thead>\n",
              "  <tbody>\n",
              "    <tr>\n",
              "      <th>2015-01-02</th>\n",
              "      <td>0.032310</td>\n",
              "    </tr>\n",
              "    <tr>\n",
              "      <th>2015-01-05</th>\n",
              "      <td>0.026238</td>\n",
              "    </tr>\n",
              "    <tr>\n",
              "      <th>2015-01-06</th>\n",
              "      <td>0.026258</td>\n",
              "    </tr>\n",
              "    <tr>\n",
              "      <th>2015-01-07</th>\n",
              "      <td>0.029195</td>\n",
              "    </tr>\n",
              "    <tr>\n",
              "      <th>2015-01-08</th>\n",
              "      <td>0.037357</td>\n",
              "    </tr>\n",
              "    <tr>\n",
              "      <th>...</th>\n",
              "      <td>...</td>\n",
              "    </tr>\n",
              "    <tr>\n",
              "      <th>2020-12-24</th>\n",
              "      <td>0.959143</td>\n",
              "    </tr>\n",
              "    <tr>\n",
              "      <th>2020-12-28</th>\n",
              "      <td>1.000000</td>\n",
              "    </tr>\n",
              "    <tr>\n",
              "      <th>2020-12-29</th>\n",
              "      <td>0.984245</td>\n",
              "    </tr>\n",
              "    <tr>\n",
              "      <th>2020-12-30</th>\n",
              "      <td>0.974291</td>\n",
              "    </tr>\n",
              "    <tr>\n",
              "      <th>2020-12-31</th>\n",
              "      <td>0.965375</td>\n",
              "    </tr>\n",
              "  </tbody>\n",
              "</table>\n",
              "<p>1511 rows × 1 columns</p>\n",
              "</div><br><label><b>dtype:</b> float64</label>"
            ]
          },
          "metadata": {},
          "execution_count": 9
        }
      ]
    },
    {
      "cell_type": "markdown",
      "source": [
        "#### **4. 創建數據集**\n",
        "\n",
        "我們需要將時間序列數據轉換為監督學習的問題，即輸入特徵和目標值。\n",
        "\n",
        "- **定義時間步長（lookback）**：決定了我們使用過去多少天的數據來預測下一天的價格。"
      ],
      "metadata": {
        "id": "nbUWA6Fn7-sk"
      }
    },
    {
      "cell_type": "code",
      "source": [
        "def create_dataset(dataset, lookback=60):\n",
        "    X, y = [], []\n",
        "    for i in range(len(dataset)-lookback):\n",
        "        X.append(dataset[i:(i+lookback), 0])\n",
        "        y.append(dataset[i+lookback, 0])\n",
        "    return np.array(X), np.array(y)\n",
        "\n",
        "# 轉換為numpy數組\n",
        "dataset = data.values\n",
        "\n",
        "# 定義lookback窗口大小\n",
        "lookback = 60\n",
        "\n",
        "X, y = create_dataset(dataset, lookback)"
      ],
      "metadata": {
        "id": "abKrMvaJ8Bys"
      },
      "execution_count": null,
      "outputs": []
    },
    {
      "cell_type": "code",
      "source": [
        "print(X.shape)\n",
        "print(y.shape)"
      ],
      "metadata": {
        "colab": {
          "base_uri": "https://localhost:8080/"
        },
        "id": "r2KTtIOYlQAQ",
        "outputId": "9c2addbd-c1ed-4477-e25b-414522fd1890"
      },
      "execution_count": null,
      "outputs": [
        {
          "output_type": "stream",
          "name": "stdout",
          "text": [
            "(1451, 60)\n",
            "(1451,)\n"
          ]
        }
      ]
    },
    {
      "cell_type": "markdown",
      "source": [
        "#### **5. 劃分訓練集和測試集**\n",
        "我們分資料的方式先簡單用前面 8 成的資料當做訓練，後面2成資料當作測試"
      ],
      "metadata": {
        "id": "_UGc7BFA8FTG"
      }
    },
    {
      "cell_type": "code",
      "source": [
        "# 劃分比例\n",
        "train_size = int(len(X) * 0.8)\n",
        "test_size = len(X) - train_size\n",
        "\n",
        "X_train = X[:train_size]\n",
        "y_train = y[:train_size]\n",
        "X_test = X[train_size:]\n",
        "y_test = y[train_size:]"
      ],
      "metadata": {
        "id": "wVmGmw3v8HXP"
      },
      "execution_count": null,
      "outputs": []
    },
    {
      "cell_type": "markdown",
      "source": [
        "#### **6. 數據格式調整**\n",
        "\n",
        "PyTorch的RNN模型需要輸入形狀為 `(batch_size, seq_length, input_size)`。"
      ],
      "metadata": {
        "id": "BgRNLAZ68KUZ"
      }
    },
    {
      "cell_type": "code",
      "source": [
        "# 調整輸入形狀\n",
        "X_train = X_train.reshape(-1, lookback, 1) # X_train[i:i+batch_size]\n",
        "X_test = X_test.reshape(-1, lookback, 1)"
      ],
      "metadata": {
        "id": "DdQxlp4Z8Mrn"
      },
      "execution_count": null,
      "outputs": []
    },
    {
      "cell_type": "code",
      "source": [
        "print(\"X_train\",X_train.shape)\n",
        "print(\"y_train\",y_train.shape)\n",
        "print(\"X_test\",X_test.shape)\n",
        "print(\"y_test\",y_test.shape)"
      ],
      "metadata": {
        "colab": {
          "base_uri": "https://localhost:8080/"
        },
        "id": "AHgoW9pQmpX7",
        "outputId": "f6088ee8-cc06-40b8-ff0b-fff766325020"
      },
      "execution_count": null,
      "outputs": [
        {
          "output_type": "stream",
          "name": "stdout",
          "text": [
            "X_train (1160, 60, 1)\n",
            "y_train (1160,)\n",
            "X_test (291, 60, 1)\n",
            "y_test (291,)\n"
          ]
        }
      ]
    },
    {
      "cell_type": "markdown",
      "source": [
        "\n",
        "### **三、構建LSTM模型**\n",
        "\n",
        "#### **1. 導入PyTorch**"
      ],
      "metadata": {
        "id": "QHFflYDG8Qj2"
      }
    },
    {
      "cell_type": "code",
      "source": [
        "import torch\n",
        "import torch.nn as nn"
      ],
      "metadata": {
        "id": "y2Klud0s8S7h"
      },
      "execution_count": null,
      "outputs": []
    },
    {
      "cell_type": "markdown",
      "source": [
        "#### **2. 檢查GPU**\n"
      ],
      "metadata": {
        "id": "nDRUPGH18WTE"
      }
    },
    {
      "cell_type": "code",
      "source": [
        "device = torch.device('cuda' if torch.cuda.is_available() else 'cpu')\n",
        "print(f'使用設備：{device}')"
      ],
      "metadata": {
        "colab": {
          "base_uri": "https://localhost:8080/"
        },
        "id": "gAXUNX2Z8cbL",
        "outputId": "f4263759-09f8-4e25-ccc7-ebabeb07cc73"
      },
      "execution_count": null,
      "outputs": [
        {
          "output_type": "stream",
          "name": "stdout",
          "text": [
            "使用設備：cuda\n"
          ]
        }
      ]
    },
    {
      "cell_type": "markdown",
      "source": [
        "#### **3. 定義LSTM模型 & 輸入和輸出說明**\n"
      ],
      "metadata": {
        "id": "XdmkOoa88gi9"
      }
    },
    {
      "cell_type": "code",
      "source": [
        "class StockPriceLSTM(nn.Module):\n",
        "    def __init__(self, input_size=1, hidden_size=50, num_layers=2):\n",
        "        super(StockPriceLSTM, self).__init__()\n",
        "        self.hidden_size = hidden_size\n",
        "        self.num_layers = num_layers\n",
        "\n",
        "        # 定義LSTM層\n",
        "        self.lstm = nn.LSTM(input_size, hidden_size, num_layers, batch_first=True)\n",
        "        # self.lstm = nn.LSTM(input_size, hidden_size, num_layers, batch_first=True, dropout=0.2)\n",
        "        # 定義全連接層\n",
        "        self.fc = nn.Linear(hidden_size, 1)\n",
        "\n",
        "    def forward(self, x):\n",
        "        # 初始化隱藏狀態和細胞狀態\n",
        "        h0 = torch.zeros(self.num_layers, x.size(0), self.hidden_size).to(device)\n",
        "        c0 = torch.zeros(self.num_layers, x.size(0), self.hidden_size).to(device)\n",
        "\n",
        "        # 前向傳播LSTM\n",
        "        out, _ = self.lstm(x, (h0, c0))\n",
        "        # 取最後一個時間步的輸出\n",
        "        out = self.fc(out[:, -1, :])\n",
        "        return out"
      ],
      "metadata": {
        "id": "d7Zu3vfI8hKT"
      },
      "execution_count": null,
      "outputs": []
    },
    {
      "cell_type": "markdown",
      "source": [
        "- **輸入（Input）**：\n",
        "​\n",
        "  - **x**：形狀為 `(batch_size, seq_length, input_size)` 的張量。\n",
        "    - **batch_size**：一次訓練中使用的樣本數。\n",
        "    - **seq_length（lookback）**：時間步長，即我們使用過去多少天的數據。\n",
        "    - **input_size**：每個時間步的特徵數，這裡是 `1`，表示收盤價。\n",
        "​\n",
        "- **輸出（Output）**：\n",
        "​\n",
        "  - **out**：形狀為 `(batch_size, 1)` 的張量。\n",
        "    - **預測值**：模型對下一天價格的預測。\n",
        "​\n",
        "- **流程**：\n",
        "​\n",
        "  1. **初始化隱藏狀態和細胞狀態**：\n",
        "​\n",
        "     ```python\n",
        "     h0 = torch.zeros(self.num_layers, x.size(0), self.hidden_size).to(device)\n",
        "     c0 = torch.zeros(self.num_layers, x.size(0), self.hidden_size).to(device)\n",
        "     ```\n",
        "​\n",
        "     - **h0** 和 **c0**：分別是隱藏層和細胞狀態，初始化為零。\n",
        "​\n",
        "  2. **LSTM 層計算**：\n",
        "​\n",
        "     ```python\n",
        "     out, _ = self.lstm(x, (h0, c0))\n",
        "     ```\n",
        "​\n",
        "     - **out**：形狀為 `(batch_size, seq_length, hidden_size)`，包含每個時間步的輸出。\n",
        "​\n",
        "  3. **取最後一個時間步的輸出**：\n",
        "​\n",
        "     ```python\n",
        "     out = self.fc(out[:, -1, :])\n",
        "     ```\n",
        "​\n",
        "     - **out[:, -1, :]**：取得最後一個時間步的輸出，形狀為 `(batch_size, hidden_size)`。\n",
        "     - **self.fc**：全連接層，將輸出映射到最終的預測值。"
      ],
      "metadata": {
        "id": "-5qTc2ijG_i2"
      }
    },
    {
      "cell_type": "markdown",
      "source": [
        "#### **4. 實例化模型**\n"
      ],
      "metadata": {
        "id": "3nKG047w8lM3"
      }
    },
    {
      "cell_type": "code",
      "source": [
        "model = StockPriceLSTM().to(device)\n"
      ],
      "metadata": {
        "id": "MK1EW3k18niY"
      },
      "execution_count": null,
      "outputs": []
    },
    {
      "cell_type": "markdown",
      "source": [
        "#### **5. 定義損失函數和優化器**\n"
      ],
      "metadata": {
        "id": "oH2bf5ya8qO-"
      }
    },
    {
      "cell_type": "code",
      "source": [
        "criterion = nn.MSELoss()\n",
        "optimizer = torch.optim.Adam(model.parameters(), lr=0.001)"
      ],
      "metadata": {
        "id": "MWm8k2Wk8sF2"
      },
      "execution_count": null,
      "outputs": []
    },
    {
      "cell_type": "markdown",
      "source": [
        "### **四、訓練模型**\n",
        "\n",
        "#### **1. 轉換數據為PyTorch的Tensor**\n"
      ],
      "metadata": {
        "id": "6VdtD7xt8v5P"
      }
    },
    {
      "cell_type": "code",
      "source": [
        "X_train_tensor = torch.from_numpy(X_train).float().to(device)\n",
        "y_train_tensor = torch.from_numpy(y_train).float().to(device)\n",
        "X_test_tensor = torch.from_numpy(X_test).float().to(device)\n",
        "y_test_tensor = torch.from_numpy(y_test).float().to(device)"
      ],
      "metadata": {
        "id": "1wcAmaOa8yGZ"
      },
      "execution_count": null,
      "outputs": []
    },
    {
      "cell_type": "markdown",
      "source": [
        "#### **2. 開始訓練**\n"
      ],
      "metadata": {
        "id": "RbDGOIHW808Q"
      }
    },
    {
      "cell_type": "code",
      "source": [
        "num_epochs = 500\n",
        "for epoch in range(num_epochs):\n",
        "    model.train()\n",
        "    outputs = model(X_train_tensor)\n",
        "    optimizer.zero_grad()\n",
        "    loss = criterion(outputs.squeeze(), y_train_tensor)\n",
        "    loss.backward()\n",
        "    optimizer.step()\n",
        "\n",
        "    if (epoch+1) % 10 == 0:\n",
        "        # 在測試集上評估\n",
        "        model.eval()\n",
        "        with torch.no_grad():\n",
        "            test_outputs = model(X_test_tensor)\n",
        "            test_loss = criterion(test_outputs.squeeze(), y_test_tensor)\n",
        "        print(f'Epoch [{epoch+1}/{num_epochs}], 訓練集Loss: {loss.item():.4f}, 測試集Loss: {test_loss.item():.4f}')"
      ],
      "metadata": {
        "colab": {
          "base_uri": "https://localhost:8080/"
        },
        "id": "pVeG5kyP83MR",
        "outputId": "da596092-5f12-4589-bcb3-bcf480e44c12"
      },
      "execution_count": null,
      "outputs": [
        {
          "output_type": "stream",
          "name": "stdout",
          "text": [
            "Epoch [10/500], 訓練集Loss: 0.0103, 測試集Loss: 0.2787\n",
            "Epoch [20/500], 訓練集Loss: 0.0091, 測試集Loss: 0.2215\n",
            "Epoch [30/500], 訓練集Loss: 0.0082, 測試集Loss: 0.2726\n",
            "Epoch [40/500], 訓練集Loss: 0.0072, 測試集Loss: 0.2347\n",
            "Epoch [50/500], 訓練集Loss: 0.0070, 測試集Loss: 0.2147\n",
            "Epoch [60/500], 訓練集Loss: 0.0066, 測試集Loss: 0.2172\n",
            "Epoch [70/500], 訓練集Loss: 0.0060, 測試集Loss: 0.1863\n",
            "Epoch [80/500], 訓練集Loss: 0.0051, 測試集Loss: 0.1462\n",
            "Epoch [90/500], 訓練集Loss: 0.0027, 測試集Loss: 0.0206\n",
            "Epoch [100/500], 訓練集Loss: 0.0012, 測試集Loss: 0.0280\n",
            "Epoch [110/500], 訓練集Loss: 0.0007, 測試集Loss: 0.0047\n",
            "Epoch [120/500], 訓練集Loss: 0.0003, 測試集Loss: 0.0080\n",
            "Epoch [130/500], 訓練集Loss: 0.0003, 測試集Loss: 0.0047\n",
            "Epoch [140/500], 訓練集Loss: 0.0002, 測試集Loss: 0.0052\n",
            "Epoch [150/500], 訓練集Loss: 0.0002, 測試集Loss: 0.0063\n",
            "Epoch [160/500], 訓練集Loss: 0.0002, 測試集Loss: 0.0084\n",
            "Epoch [170/500], 訓練集Loss: 0.0002, 測試集Loss: 0.0090\n",
            "Epoch [180/500], 訓練集Loss: 0.0002, 測試集Loss: 0.0105\n",
            "Epoch [190/500], 訓練集Loss: 0.0002, 測試集Loss: 0.0109\n",
            "Epoch [200/500], 訓練集Loss: 0.0002, 測試集Loss: 0.0115\n",
            "Epoch [210/500], 訓練集Loss: 0.0002, 測試集Loss: 0.0116\n",
            "Epoch [220/500], 訓練集Loss: 0.0002, 測試集Loss: 0.0117\n",
            "Epoch [230/500], 訓練集Loss: 0.0002, 測試集Loss: 0.0115\n",
            "Epoch [240/500], 訓練集Loss: 0.0001, 測試集Loss: 0.0112\n",
            "Epoch [250/500], 訓練集Loss: 0.0001, 測試集Loss: 0.0109\n",
            "Epoch [260/500], 訓練集Loss: 0.0001, 測試集Loss: 0.0106\n",
            "Epoch [270/500], 訓練集Loss: 0.0001, 測試集Loss: 0.0102\n",
            "Epoch [280/500], 訓練集Loss: 0.0001, 測試集Loss: 0.0098\n",
            "Epoch [290/500], 訓練集Loss: 0.0001, 測試集Loss: 0.0094\n",
            "Epoch [300/500], 訓練集Loss: 0.0001, 測試集Loss: 0.0090\n",
            "Epoch [310/500], 訓練集Loss: 0.0001, 測試集Loss: 0.0086\n",
            "Epoch [320/500], 訓練集Loss: 0.0001, 測試集Loss: 0.0083\n",
            "Epoch [330/500], 訓練集Loss: 0.0001, 測試集Loss: 0.0079\n",
            "Epoch [340/500], 訓練集Loss: 0.0001, 測試集Loss: 0.0076\n",
            "Epoch [350/500], 訓練集Loss: 0.0001, 測試集Loss: 0.0073\n",
            "Epoch [360/500], 訓練集Loss: 0.0001, 測試集Loss: 0.0070\n",
            "Epoch [370/500], 訓練集Loss: 0.0001, 測試集Loss: 0.0067\n",
            "Epoch [380/500], 訓練集Loss: 0.0001, 測試集Loss: 0.0064\n",
            "Epoch [390/500], 訓練集Loss: 0.0001, 測試集Loss: 0.0062\n",
            "Epoch [400/500], 訓練集Loss: 0.0001, 測試集Loss: 0.0059\n",
            "Epoch [410/500], 訓練集Loss: 0.0001, 測試集Loss: 0.0057\n",
            "Epoch [420/500], 訓練集Loss: 0.0001, 測試集Loss: 0.0055\n",
            "Epoch [430/500], 訓練集Loss: 0.0001, 測試集Loss: 0.0053\n",
            "Epoch [440/500], 訓練集Loss: 0.0001, 測試集Loss: 0.0051\n",
            "Epoch [450/500], 訓練集Loss: 0.0001, 測試集Loss: 0.0049\n",
            "Epoch [460/500], 訓練集Loss: 0.0001, 測試集Loss: 0.0047\n",
            "Epoch [470/500], 訓練集Loss: 0.0001, 測試集Loss: 0.0045\n",
            "Epoch [480/500], 訓練集Loss: 0.0001, 測試集Loss: 0.0044\n",
            "Epoch [490/500], 訓練集Loss: 0.0001, 測試集Loss: 0.0042\n",
            "Epoch [500/500], 訓練集Loss: 0.0001, 測試集Loss: 0.0041\n"
          ]
        }
      ]
    },
    {
      "cell_type": "markdown",
      "source": [
        "### **五、評估模型**\n",
        "\n",
        "#### **1. 預測並反歸一化**"
      ],
      "metadata": {
        "id": "w5kNM6NZ89x0"
      }
    },
    {
      "cell_type": "code",
      "source": [
        "model.eval()\n",
        "with torch.no_grad():\n",
        "    train_predict = model(X_train_tensor).cpu().numpy()\n",
        "    test_predict = model(X_test_tensor).cpu().numpy()\n",
        "\n",
        "# 反歸一化\n",
        "train_predict = scaler.inverse_transform(train_predict)\n",
        "y_train_actual = scaler.inverse_transform(y_train.reshape(-1, 1))\n",
        "test_predict = scaler.inverse_transform(test_predict)\n",
        "y_test_actual = scaler.inverse_transform(y_test.reshape(-1, 1))"
      ],
      "metadata": {
        "id": "0uqMk8tx9CYE"
      },
      "execution_count": null,
      "outputs": []
    },
    {
      "cell_type": "code",
      "source": [
        "print(train_predict)\n",
        "print()\n",
        "print(scaler.inverse_transform(dataset[lookback:])[0])"
      ],
      "metadata": {
        "colab": {
          "base_uri": "https://localhost:8080/"
        },
        "id": "ibJDrwaFrckB",
        "outputId": "f10edf45-817f-4b16-fa89-bbcd6b21376b"
      },
      "execution_count": null,
      "outputs": [
        {
          "output_type": "stream",
          "name": "stdout",
          "text": [
            "[[28.19105 ]\n",
            " [28.158373]\n",
            " [28.122921]\n",
            " ...\n",
            " [59.08586 ]\n",
            " [59.4427  ]\n",
            " [59.870842]]\n",
            "\n",
            "[27.84982109]\n"
          ]
        }
      ]
    },
    {
      "cell_type": "markdown",
      "source": [
        "#### **2. 繪製結果**\n"
      ],
      "metadata": {
        "id": "PLwfTWvH9Fag"
      }
    },
    {
      "cell_type": "code",
      "source": [
        "# 構建完整的時間序列\n",
        "predicted = np.concatenate((train_predict, test_predict), axis=0)\n",
        "actual = scaler.inverse_transform(dataset[lookback:])\n",
        "\n",
        "plt.figure(figsize=(12,6))\n",
        "plt.plot(actual, label='實際價格')\n",
        "plt.plot(predicted, label='預測價格')\n",
        "plt.title('AAPL 股票價格預測')\n",
        "plt.xlabel('時間')\n",
        "plt.ylabel('價格')\n",
        "plt.legend()\n",
        "plt.show()"
      ],
      "metadata": {
        "colab": {
          "base_uri": "https://localhost:8080/",
          "height": 564
        },
        "id": "5tA38qjJ9GCh",
        "outputId": "d4303d2c-f732-452e-dbff-d560dfbf384b"
      },
      "execution_count": null,
      "outputs": [
        {
          "output_type": "display_data",
          "data": {
            "text/plain": [
              "<Figure size 1200x600 with 1 Axes>"
            ],
            "image/png": "[encoded data removed]"
          },
          "metadata": {}
        }
      ]
    },
    {
      "cell_type": "markdown",
      "source": [
        "#### **3. 計算評價指標**\n"
      ],
      "metadata": {
        "id": "m0RraW3G9Kqh"
      }
    },
    {
      "cell_type": "code",
      "source": [
        "from sklearn.metrics import mean_squared_error\n",
        "\n",
        "train_score = mean_squared_error(y_train_actual, train_predict)\n",
        "test_score = mean_squared_error(y_test_actual, test_predict)\n",
        "print(f'訓練集MSE: {train_score:.2f}')\n",
        "print(f'測試集MSE: {test_score:.2f}')"
      ],
      "metadata": {
        "colab": {
          "base_uri": "https://localhost:8080/"
        },
        "id": "poiVJ0lN9Mez",
        "outputId": "0c30876c-6a44-4525-b5d6-9a98ba355b6c"
      },
      "execution_count": null,
      "outputs": [
        {
          "output_type": "stream",
          "name": "stdout",
          "text": [
            "訓練集MSE: 1.39\n",
            "測試集MSE: 51.87\n"
          ]
        }
      ]
    },
    {
      "cell_type": "markdown",
      "source": [
        "### **六、處理時間序列數據的特殊性**\n",
        "\n",
        "#### **1. 序列依賴性**\n",
        "\n",
        "- **考慮過去的信息**：通過設置合理的`lookback`窗口大小，確保模型能夠捕捉足夠的歷史信息。\n",
        "- **長期依賴問題**：LSTM結構能夠有效處理長期依賴，但也需要注意不要設置過大的`lookback`，以免增加模型複雜度。\n",
        "\n",
        "#### **2. 數據平穩性**\n",
        "\n",
        "- **趨勢和季節性**：可以使用差分或對數變換消除趨勢和季節性，但在LSTM中，這通常不是必須的，因為LSTM能夠處理非平穩數據。\n",
        "- **歸一化**：歸一化能夠加速模型收斂，提高模型性能。\n",
        "\n",
        "#### **3. 數據劃分**\n",
        "\n",
        "- **時間序列切分**：確保訓練集在測試集之前，防止未來數據洩漏。\n",
        "- **驗證集的使用**：可以從訓練集中再劃分出驗證集，用於超參數調整。\n",
        "\n",
        "---\n",
        "\n",
        "### **七、改進模型的方向**\n",
        "\n",
        "#### **1. 超參數調整**\n",
        "\n",
        "- **隱藏層大小**：嘗試不同的`hidden_size`，如`32`、`64`、`128`。\n",
        "- **層數**：調整`num_layers`，如`1`、`2`、`3`。\n",
        "- **學習率**：調整優化器的學習率，如`0.01`、`0.001`、`0.0001`。\n",
        "\n",
        "#### **2. 增加正則化**\n",
        "- **Dropout**：在LSTM層中添加`dropout`，防止過擬合。\n"
      ],
      "metadata": {
        "id": "ja9-Lclj9PRT"
      }
    },
    {
      "cell_type": "code",
      "source": [
        "self.lstm = nn.LSTM(input_size, hidden_size, num_layers, batch_first=True, dropout=0.2)"
      ],
      "metadata": {
        "id": "-tMYcWyN9YAc",
        "colab": {
          "base_uri": "https://localhost:8080/",
          "height": 141
        },
        "outputId": "26bdbd2b-feb5-443a-f69b-6df260024936"
      },
      "execution_count": null,
      "outputs": [
        {
          "output_type": "error",
          "ename": "NameError",
          "evalue": "name 'nn' is not defined",
          "traceback": [
            "\u001b[0;31m---------------------------------------------------------------------------\u001b[0m",
            "\u001b[0;31mNameError\u001b[0m                                 Traceback (most recent call last)",
            "\u001b[0;32m<ipython-input-1-176d3b07e773>\u001b[0m in \u001b[0;36m<cell line: 1>\u001b[0;34m()\u001b[0m\n\u001b[0;32m----> 1\u001b[0;31m \u001b[0mself\u001b[0m\u001b[0;34m.\u001b[0m\u001b[0mlstm\u001b[0m \u001b[0;34m=\u001b[0m \u001b[0mnn\u001b[0m\u001b[0;34m.\u001b[0m\u001b[0mLSTM\u001b[0m\u001b[0;34m(\u001b[0m\u001b[0minput_size\u001b[0m\u001b[0;34m,\u001b[0m \u001b[0mhidden_size\u001b[0m\u001b[0;34m,\u001b[0m \u001b[0mnum_layers\u001b[0m\u001b[0;34m,\u001b[0m \u001b[0mbatch_first\u001b[0m\u001b[0;34m=\u001b[0m\u001b[0;32mTrue\u001b[0m\u001b[0;34m,\u001b[0m \u001b[0mdropout\u001b[0m\u001b[0;34m=\u001b[0m\u001b[0;36m0.2\u001b[0m\u001b[0;34m)\u001b[0m\u001b[0;34m\u001b[0m\u001b[0;34m\u001b[0m\u001b[0m\n\u001b[0m",
            "\u001b[0;31mNameError\u001b[0m: name 'nn' is not defined"
          ]
        }
      ]
    },
    {
      "cell_type": "markdown",
      "source": [
        "#### **3. 增加特徵**\n",
        "​\n",
        "- **多變量輸入**：除了收盤價，還可以加入開盤價、最高價、最低價、成交量等特徵。\n",
        "​"
      ],
      "metadata": {
        "id": "kgA6uZjO9a54"
      }
    },
    {
      "cell_type": "code",
      "source": [
        "# 例如，使用收盤價和成交量\n",
        "data = data[['Close', 'Volume']]"
      ],
      "metadata": {
        "id": "mvENoRK99g5C"
      },
      "execution_count": null,
      "outputs": []
    },
    {
      "cell_type": "markdown",
      "source": [
        "- **技術指標**：添加移動平均線、相對強弱指數（RSI）等技術指標。\n",
        "\n",
        "#### **4. 使用其他模型**\n",
        "\n",
        "- **GRU（門控循環單元）**：與LSTM類似，但結構更簡潔，可以嘗試使用GRU。\n",
        "- **CNN-LSTM**：將卷積神經網絡與LSTM結合，捕捉局部和全局特徵。\n",
        "\n",
        "---\n",
        "\n",
        "### **八、總結**\n",
        "\n",
        "在本節中，我們：\n",
        "\n",
        "- **了解了時間序列數據的特殊性**，以及為什麼選擇LSTM模型來進行預測。\n",
        "- **簡要介紹了PyTorch**，並使用它構建了一個LSTM模型，應用於股票價格的預測。\n",
        "- **從數據預處理到模型評估**，完整地演示了整個流程。\n",
        "- **討論了處理時間序列數據的注意事項**，以及改進模型的方向。\n",
        "\n",
        "*透過這次實踐，您應該對如何使用深度學習模型處理時間序列數據有了更深入的理解，並掌握了使用PyTorch進行模型構建和訓練的基本方法。*\n",
        "\n",
        "---\n",
        "\n",
        "**作業：**\n",
        "\n",
        "1. **嘗試調整模型的超參數**：如`hidden_size`、`num_layers`、`learning_rate`，觀察對模型性能的影響。\n",
        "\n",
        "2. **增加更多的特徵**：如技術指標、基本面數據，構建多變量時間序列模型。\n",
        "\n",
        "3. **嘗試使用GRU模型**：將LSTM替換為GRU，比較兩者的性能。\n",
        "\n",
        "4. **使用 Early Stopping 和學習率調整策略**：提高模型的泛化能力。\n",
        "\n",
        "*透過這些練習，我們將能夠更靈活地應用深度學習模型進行時間序列預測，並提高模型的性能。*\n",
        "---\n",
        "\n",
        "**提示：**\n",
        "\n",
        "- **檢查GPU是否可用**：在訓練深度學習模型時，使用GPU可以大大加速訓練過程。"
      ],
      "metadata": {
        "id": "1winCcBG9gj_"
      }
    },
    {
      "cell_type": "code",
      "source": [
        "device = torch.device('cuda' if torch.cuda.is_available() else 'cpu')"
      ],
      "metadata": {
        "id": "khKi4yE59qBY"
      },
      "execution_count": null,
      "outputs": []
    },
    {
      "cell_type": "markdown",
      "source": [
        "- **防止過擬合**：在訓練過程中，監控訓練集和驗證集的損失，防止模型過擬合。\n",
        "\n",
        "- **保存和加載模型**：使用`torch.save()`和`torch.load()`保存和加載模型，方便後續使用。"
      ],
      "metadata": {
        "id": "nrZ2Dbuw9sgw"
      }
    },
    {
      "cell_type": "code",
      "source": [
        "# 保存模型\n",
        "torch.save(model.state_dict(), 'model.pth')\n",
        "\n",
        "# 加載模型\n",
        "model.load_state_dict(torch.load('model.pth'))"
      ],
      "metadata": {
        "id": "mwh88kj59u3v",
        "colab": {
          "base_uri": "https://localhost:8080/"
        },
        "outputId": "c2cf5ab3-c0cb-4713-f30d-b49c0a2d2273"
      },
      "execution_count": null,
      "outputs": [
        {
          "output_type": "stream",
          "name": "stderr",
          "text": [
            "<ipython-input-56-17f83192e929>:5: FutureWarning: You are using `torch.load` with `weights_only=False` (the current default value), which uses the default pickle module implicitly. It is possible to construct malicious pickle data which will execute arbitrary code during unpickling (See https://github.com/pytorch/pytorch/blob/main/SECURITY.md#untrusted-models for more details). In a future release, the default value for `weights_only` will be flipped to `True`. This limits the functions that could be executed during unpickling. Arbitrary objects will no longer be allowed to be loaded via this mode unless they are explicitly allowlisted by the user via `torch.serialization.add_safe_globals`. We recommend you start setting `weights_only=True` for any use case where you don't have full control of the loaded file. Please open an issue on GitHub for any issues related to this experimental feature.\n",
            "  model.load_state_dict(torch.load('model.pth'))\n"
          ]
        },
        {
          "output_type": "execute_result",
          "data": {
            "text/plain": [
              "<All keys matched successfully>"
            ]
          },
          "metadata": {},
          "execution_count": 56
        }
      ]
    },
    {
      "cell_type": "markdown",
      "source": [
        "**注意：**\n",
        "\n",
        "- **數據預處理的重要性**：時間序列數據的質量直接影響模型的性能，務必仔細進行數據清洗和預處理。\n",
        "\n",
        "- **模型的可解釋性**：深度學習模型通常是黑盒模型，難以解釋其內部機制。在金融領域，風險控制非常重要，需謹慎使用。\n",
        "\n",
        "- **風險提示**：股票價格預測具有高度不確定性，模型預測結果僅供參考，不應作為投資決策的唯一依據。\n"
      ],
      "metadata": {
        "id": "nm4cMbDl9x7x"
      }
    },
    {
      "cell_type": "markdown",
      "source": [],
      "metadata": {
        "id": "A1O9Kiyp9UyI"
      }
    }
  ]
}