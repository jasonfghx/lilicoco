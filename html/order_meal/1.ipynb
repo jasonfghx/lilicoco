{
 "cells": [
  {
   "cell_type": "code",
   "execution_count": null,
   "metadata": {},
   "outputs": [],
   "source": [
    "import sqlite3\n",
    "import pandas as pd\n",
    "conn=sqlite3.connect(\"DB/meal.db\")\n",
    "cursor=conn.cursor()\n",
    "cursor.execute('DROP TABLE LG_u ')"
   ]
  }
 ],
 "metadata": {
  "language_info": {
   "name": "python"
  },
  "orig_nbformat": 4
 },
 "nbformat": 4,
 "nbformat_minor": 2
}
