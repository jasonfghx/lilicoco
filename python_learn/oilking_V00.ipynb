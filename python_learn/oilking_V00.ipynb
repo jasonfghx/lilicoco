{
 "cells": [
  {
   "cell_type": "markdown",
   "metadata": {
    "colab_type": "text",
    "id": "NmFRQA4mXUMd"
   },
   "source": [
    "# Version Control\n",
    "- V00: follow F.Chollet [使用非常少的数据构建强大的图像分类模型](https://github.com/ictar/python-doc/blob/master/Machine%20Learning/使用非常少的数据构建强大的图像分类模型.md) & [秉叡](https://drive.google.com/open?id=1-wHQCF9mkj_3CLewJ9MbtlT9MhWS1fw5)"
   ]
  },
  {
   "cell_type": "markdown",
   "metadata": {
    "colab_type": "text",
    "id": "9y9X6atiXryF"
   },
   "source": [
    "# CODE"
   ]
  },
  {
   "cell_type": "code",
   "execution_count": 1,
   "metadata": {
    "colab": {},
    "colab_type": "code",
    "id": "DtDMIiXiXyWy"
   },
   "outputs": [
    {
     "name": "stderr",
     "output_type": "stream",
     "text": [
      "Using TensorFlow backend.\n"
     ]
    }
   ],
   "source": [
    "import os, glob, csv\n",
    "# from random import shuffle\n",
    "# from collections import Counter\n",
    "# import h5py, pickle\n",
    "\n",
    "import numpy as np\n",
    "import pandas as pd\n",
    "import matplotlib.pyplot as plt\n",
    "import seaborn as sns\n",
    "import cv2\n",
    "\n",
    "from sklearn.model_selection import train_test_split\n",
    "\n",
    "import keras\n",
    "from keras.preprocessing.image import ImageDataGenerator, array_to_img, img_to_array, load_img\n",
    "from keras.callbacks import LearningRateScheduler, ModelCheckpoint, ReduceLROnPlateau\n",
    "from keras.models import Sequential\n",
    "from keras.layers import Dense, Activation, Flatten, BatchNormalization\n",
    "from keras.layers import Conv2D, MaxPooling2D, Dropout\n",
    "from keras.optimizers import SGD, Adam, RMSprop\n",
    "\n",
    "# 顯示每一項 var.  的 output\n",
    "from IPython.core.interactiveshell import InteractiveShell\n",
    "InteractiveShell.ast_node_interactivity = 'all'"
   ]
  },
  {
   "cell_type": "code",
   "execution_count": 2,
   "metadata": {
    "colab": {
     "base_uri": "https://localhost:8080/",
     "height": 54
    },
    "colab_type": "code",
    "id": "KiS2aatLZKZw",
    "outputId": "d230f7da-acd8-4dcb-a467-9cd55753f6f9"
   },
   "outputs": [],
   "source": [
    "# 設定路徑\n",
    "# from google.colab import drive\n",
    "# drive.mount('/content/gdrive')\n",
    "# path_wrt = '/content/gdrive/My Drive/projects/oil_king'\n",
    "path_wrt = 'C:\\\\Users\\\\USER\\\\Google 雲端硬碟\\\\projects\\\\oil_king'\n",
    "# path_train = '/content/gdrive/Team Drives/影像辨識專題-自己小組/圖片檔/train'\n",
    "# path_train = 'D:\\\\OilKing\\\\train0131'\n",
    "# path_train = r'C:\\Users\\USER\\Google 雲端硬碟\\Datasets\\WhereAmI\\train'\n",
    "path_train = r'C:\\Users\\USER\\Google 雲端硬碟\\Datasets\\the-simpsons-characters-dataset\\simpsons_dataset'\n",
    "\n",
    "os.chdir(path_wrt)\n"
   ]
  },
  {
   "cell_type": "code",
   "execution_count": 3,
   "metadata": {
    "colab": {
     "base_uri": "https://localhost:8080/",
     "height": 68
    },
    "colab_type": "code",
    "id": "_KI7-qKXenAQ",
    "outputId": "cce6275f-09d7-4515-f474-b825bfdade6f"
   },
   "outputs": [
    {
     "name": "stdout",
     "output_type": "stream",
     "text": [
      "train/validation:  (128, 128, 3)\n",
      "Found 15717 images belonging to 47 classes.\n",
      "Found 5216 images belonging to 47 classes.\n",
      "{0: 'abraham_grampa_simpson', 1: 'agnes_skinner', 2: 'apu_nahasapeemapetilon', 3: 'barney_gumble', 4: 'bart_simpson', 5: 'bumblebee_man', 6: 'carl_carlson', 7: 'charles_montgomery_burns', 8: 'chief_wiggum', 9: 'cletus_spuckler', 10: 'comic_book_guy', 11: 'disco_stu', 12: 'edna_krabappel', 13: 'fat_tony', 14: 'gil', 15: 'groundskeeper_willie', 16: 'hans_moleman', 17: 'helen_lovejoy', 18: 'homer_simpson', 19: 'jasper_beardly', 20: 'jimbo_jones', 21: 'kent_brockman', 22: 'krusty_the_clown', 23: 'lenny_leonard', 24: 'lionel_hutz', 25: 'lisa_simpson', 26: 'maggie_simpson', 27: 'marge_simpson', 28: 'martin_prince', 29: 'mayor_quimby', 30: 'milhouse_van_houten', 31: 'miss_hoover', 32: 'moe_szyslak', 33: 'ned_flanders', 34: 'nelson_muntz', 35: 'otto_mann', 36: 'patty_bouvier', 37: 'principal_skinner', 38: 'professor_john_frink', 39: 'rainier_wolfcastle', 40: 'ralph_wiggum', 41: 'selma_bouvier', 42: 'sideshow_bob', 43: 'sideshow_mel', 44: 'snake_jailbird', 45: 'troy_mcclure', 46: 'waylon_smithers'}\n"
     ]
    }
   ],
   "source": [
    "# 生成 data augmentation 的 generator\n",
    "datagen = ImageDataGenerator(\n",
    "            validation_split=0.25,\n",
    "            rescale=1./255,\n",
    "            rotation_range=0.2,\n",
    "            width_shift_range=0.2,\n",
    "            height_shift_range=0.2,\n",
    "            shear_range=0.2,\n",
    "            zoom_range=0.2,\n",
    "            horizontal_flip=True,\n",
    "            fill_mode='nearest',\n",
    ")\n",
    "\n",
    "img_size = (128,128)\n",
    "batch_size = 8\n",
    "color_mode = 'rgb' # One of \"grayscale\", \"rbg\", \"rgba\"\n",
    "if color_mode==\"grayscale\":\n",
    "    img_channels = 1\n",
    "else:\n",
    "    img_channels = len(color_mode)\n",
    "input_shp = tuple(list(img_size)+[img_channels]) # example: (224, 224, 3)\n",
    "print(\"train/validation: \", input_shp)\n",
    "\n",
    "trn_generator = datagen.flow_from_directory(\n",
    "                    path_train, target_size=img_size, batch_size=batch_size,\n",
    "                    #save_to_dir=path_wrt +\"/aug\",\n",
    "                    save_prefix=\"trn+\",\n",
    "                    subset=\"training\"\n",
    ")\n",
    "val_generator = datagen.flow_from_directory(\n",
    "                    path_train, target_size=img_size, batch_size=batch_size,\n",
    "                    #save_to_dir=path_wrt +\"/aug\",\n",
    "                    save_prefix=\"val+\",\n",
    "                    subset=\"validation\"\n",
    ")\n",
    "i = 0\n",
    "map_labels = {}\n",
    "for path in os.listdir(path_train):\n",
    "    if os.path.isdir(path_train+\"/\"+path):\n",
    "        map_labels[i] = path\n",
    "        i+=1\n",
    "print(map_labels)\n",
    "\n",
    "num_labels = len(map_labels)"
   ]
  },
  {
   "cell_type": "code",
   "execution_count": 4,
   "metadata": {
    "colab": {},
    "colab_type": "code",
    "id": "NMQQISSncTcy"
   },
   "outputs": [],
   "source": [
    "# # 展示 showcase of ImageDataGenerator\n",
    "# img = load_img(path_train_flat +\"/\" + os.listdir(path_train_flat)[0])  # this is a PIL image\n",
    "\n",
    "# x = img_to_array(img)  # this is a Numpy array with shape (3, 150, 150)\n",
    "# x = x.reshape((1,) + x.shape)  # this is a Numpy array with shape (1, 3, 150, 150)\n",
    "\n",
    "# # the .flow() command below generates batches of randomly transformed images\n",
    "# # and saves the results to the `preview/` directory\n",
    "# i = 0\n",
    "# for batch in datagen.flow(x, batch_size=1,\n",
    "#                           save_to_dir= path_wrt + '/datagen_samples',\n",
    "#                           save_prefix='show01',\n",
    "#                           save_format='jpg',\n",
    "#                          ):\n",
    "#     i += 1\n",
    "#     if i > 10:\n",
    "#         break  # otherwise the generator would loop indefinitely"
   ]
  },
  {
   "cell_type": "code",
   "execution_count": 5,
   "metadata": {
    "colab": {},
    "colab_type": "code",
    "id": "EyjXKVFzahgk"
   },
   "outputs": [],
   "source": [
    "# 定義訓練模型\n"
   ]
  },
  {
   "cell_type": "code",
   "execution_count": 6,
   "metadata": {
    "colab": {
     "base_uri": "https://localhost:8080/",
     "height": 173
    },
    "colab_type": "code",
    "id": "Z_hdoyH8g6cI",
    "outputId": "96d90e50-d5d6-46be-fcb0-091b08c12d99"
   },
   "outputs": [
    {
     "name": "stderr",
     "output_type": "stream",
     "text": [
      "D:\\Anaconda3\\envs\\keras\\lib\\site-packages\\keras_applications\\resnet50.py:265: UserWarning: The output shape of `ResNet50(include_top=False)` has been changed since Keras 2.2.0.\n",
      "  warnings.warn('The output shape of `ResNet50(include_top=False)` '\n"
     ]
    },
    {
     "name": "stdout",
     "output_type": "stream",
     "text": [
      "Loading models......Done!\n"
     ]
    }
   ],
   "source": [
    "# model_base \n",
    "#-------------------\n",
    "# 0: 簡單 CNN model\n",
    "# https://github.com/ictar/python-doc/blob/master/Machine%20Learning/使用非常少的数据构建强大的图像分类模型.md\n",
    "base_0 = Sequential()\n",
    "base_0.add(Conv2D(32, (3,3), padding='same', activation='relu', input_shape=input_shp))\n",
    "base_0.add(MaxPooling2D(pool_size=(2, 2)))\n",
    "\n",
    "base_0.add(Conv2D(32, (3,3), padding='same', activation='relu'))\n",
    "base_0.add(MaxPooling2D(pool_size=(2, 2)))\n",
    "\n",
    "base_0.add(Conv2D(64, (3,3), padding='same', activation='relu'))\n",
    "base_0.add(MaxPooling2D(pool_size=(2, 2)))\n",
    "# the model so far outputs 3D feature maps (height, width, features)\n",
    "\n",
    "# 1: 模仿 VGG16 的 CNN model\n",
    "base_1 = Sequential()\n",
    "base_1.add(Conv2D(64, (3,3), padding='same', activation='relu', input_shape=input_shp))\n",
    "base_1.add(Conv2D(64, (3,3), padding='same', activation='relu'))\n",
    "base_1.add(MaxPooling2D(pool_size=(2, 2)))\n",
    "\n",
    "base_1.add(Conv2D(128, (3,3), padding='same', activation='relu'))\n",
    "base_1.add(Conv2D(128, (3,3), padding='same', activation='relu'))\n",
    "base_1.add(MaxPooling2D(pool_size=(2, 2)))\n",
    "\n",
    "base_1.add(Conv2D(256, (3,3), padding='same', activation='relu'))\n",
    "base_1.add(Conv2D(256, (3,3), padding='same', activation='relu'))\n",
    "base_1.add(MaxPooling2D(pool_size=(2, 2)))\n",
    "\n",
    "base_1.add(Conv2D(512, (3,3), padding='same', activation='relu'))\n",
    "base_1.add(Conv2D(512, (3,3), padding='same', activation='relu'))\n",
    "base_1.add(MaxPooling2D(pool_size=(2, 2)))\n",
    "\n",
    "base_1.add(Conv2D(512, (3,3), padding='same', activation='relu'))\n",
    "base_1.add(Conv2D(512, (3,3), padding='same', activation='relu'))\n",
    "base_1.add(MaxPooling2D(pool_size=(2, 2)))\n",
    "\n",
    "# 2: Keras Applications\n",
    "base_vgg16 = keras.applications.vgg16.VGG16(\n",
    "                include_top=False, weights='imagenet', input_shape=input_shp, classes=num_labels)\n",
    "base_resnet = keras.applications.resnet50.ResNet50(\n",
    "                include_top=False, weights='imagenet', input_shape=input_shp, classes=num_labels)\n",
    "base_mobilenet = keras.applications.mobilenet.MobileNet(\n",
    "                include_top=False, weights='imagenet', input_shape=input_shp, classes=num_labels)\n",
    "\n",
    "# model_top\n",
    "#-------------------\n",
    "# 0: 簡單 CNN model\n",
    "# https://github.com/ictar/python-doc/blob/master/Machine%20Learning/使用非常少的数据构建强大的图像分类模型.md\n",
    "top_0 = Sequential()\n",
    "top_0.add(Flatten())\n",
    "top_0.add(Dense(64, activation='relu'))\n",
    "top_0.add(Dropout(0.5))\n",
    "top_0.add(Dense(num_labels, activation='softmax'))\n",
    "\n",
    "# 1: BatchNormalization\n",
    "top_1 = Sequential()\n",
    "top_1.add(Flatten())\n",
    "top_1.add(BatchNormalization())\n",
    "top_1.add(Dense(64, activation='relu'))\n",
    "top_1.add(BatchNormalization())\n",
    "top_1.add(Dense(num_labels, activation='softmax'))\n",
    "\n",
    "print(\"Loading models......Done!\")"
   ]
  },
  {
   "cell_type": "code",
   "execution_count": 7,
   "metadata": {
    "colab": {
     "base_uri": "https://localhost:8080/",
     "height": 50
    },
    "colab_type": "code",
    "id": "rIhaDaXIwrzd",
    "outputId": "ceafb5c9-0cfe-436b-86d8-6a619b2033b8"
   },
   "outputs": [
    {
     "name": "stdout",
     "output_type": "stream",
     "text": [
      "Epoch 1/10\n",
      "3930/3930 [==============================] - 379s 96ms/step - loss: 1.9023 - acc: 0.5118 - val_loss: 1.6981 - val_acc: 0.5636\n",
      "Epoch 2/10\n",
      "3930/3930 [==============================] - 376s 96ms/step - loss: 1.4958 - acc: 0.6050 - val_loss: 1.6676 - val_acc: 0.5767\n",
      "Epoch 3/10\n",
      "3930/3930 [==============================] - 377s 96ms/step - loss: 1.4208 - acc: 0.6291 - val_loss: 1.6171 - val_acc: 0.5918\n",
      "Epoch 4/10\n",
      "3930/3930 [==============================] - 377s 96ms/step - loss: 1.3690 - acc: 0.6451 - val_loss: 1.6135 - val_acc: 0.5988\n",
      "Epoch 5/10\n",
      "3930/3930 [==============================] - 377s 96ms/step - loss: 1.3517 - acc: 0.6498 - val_loss: 1.6154 - val_acc: 0.5929\n",
      "Epoch 6/10\n",
      "3930/3930 [==============================] - 376s 96ms/step - loss: 1.3236 - acc: 0.6607 - val_loss: 1.6198 - val_acc: 0.5959\n",
      "Epoch 7/10\n",
      "3930/3930 [==============================] - 377s 96ms/step - loss: 1.2886 - acc: 0.6692 - val_loss: 1.6364 - val_acc: 0.5942\n",
      "Epoch 8/10\n",
      "3930/3930 [==============================] - 377s 96ms/step - loss: 1.2743 - acc: 0.6684 - val_loss: 1.5991 - val_acc: 0.6067\n",
      "Epoch 9/10\n",
      "3930/3930 [==============================] - 377s 96ms/step - loss: 1.2517 - acc: 0.6767 - val_loss: 1.6246 - val_acc: 0.6033\n",
      "Epoch 10/10\n",
      "3930/3930 [==============================] - 377s 96ms/step - loss: 1.2530 - acc: 0.6764 - val_loss: 1.6450 - val_acc: 0.5987\n"
     ]
    }
   ],
   "source": [
    "# compile & fit\n",
    "#-----------------\n",
    "base = base_vgg16; base.trainable=False\n",
    "top = top_1\n",
    "\n",
    "model = Sequential()\n",
    "model.add(base)\n",
    "model.add(top)\n",
    "\n",
    "model.compile(\n",
    "        loss='categorical_crossentropy',\n",
    "        optimizer='rmsprop',\n",
    "        metrics=['accuracy']\n",
    ")\n",
    "\n",
    "stepX = 2\n",
    "history = model.fit_generator(\n",
    "                    trn_generator,\n",
    "                    validation_data=val_generator,\n",
    "                    epochs=10,\n",
    "                    steps_per_epoch=len(trn_generator)*stepX,\n",
    "                    validation_steps=len(val_generator)*stepX,\n",
    ")"
   ]
  },
  {
   "cell_type": "code",
   "execution_count": 8,
   "metadata": {
    "colab": {},
    "colab_type": "code",
    "id": "6Yli14pqB8MH"
   },
   "outputs": [
    {
     "name": "stdout",
     "output_type": "stream",
     "text": [
      "_________________________________________________________________\n",
      "Layer (type)                 Output Shape              Param #   \n",
      "=================================================================\n",
      "input_1 (InputLayer)         (None, 128, 128, 3)       0         \n",
      "_________________________________________________________________\n",
      "block1_conv1 (Conv2D)        (None, 128, 128, 64)      1792      \n",
      "_________________________________________________________________\n",
      "block1_conv2 (Conv2D)        (None, 128, 128, 64)      36928     \n",
      "_________________________________________________________________\n",
      "block1_pool (MaxPooling2D)   (None, 64, 64, 64)        0         \n",
      "_________________________________________________________________\n",
      "block2_conv1 (Conv2D)        (None, 64, 64, 128)       73856     \n",
      "_________________________________________________________________\n",
      "block2_conv2 (Conv2D)        (None, 64, 64, 128)       147584    \n",
      "_________________________________________________________________\n",
      "block2_pool (MaxPooling2D)   (None, 32, 32, 128)       0         \n",
      "_________________________________________________________________\n",
      "block3_conv1 (Conv2D)        (None, 32, 32, 256)       295168    \n",
      "_________________________________________________________________\n",
      "block3_conv2 (Conv2D)        (None, 32, 32, 256)       590080    \n",
      "_________________________________________________________________\n",
      "block3_conv3 (Conv2D)        (None, 32, 32, 256)       590080    \n",
      "_________________________________________________________________\n",
      "block3_pool (MaxPooling2D)   (None, 16, 16, 256)       0         \n",
      "_________________________________________________________________\n",
      "block4_conv1 (Conv2D)        (None, 16, 16, 512)       1180160   \n",
      "_________________________________________________________________\n",
      "block4_conv2 (Conv2D)        (None, 16, 16, 512)       2359808   \n",
      "_________________________________________________________________\n",
      "block4_conv3 (Conv2D)        (None, 16, 16, 512)       2359808   \n",
      "_________________________________________________________________\n",
      "block4_pool (MaxPooling2D)   (None, 8, 8, 512)         0         \n",
      "_________________________________________________________________\n",
      "block5_conv1 (Conv2D)        (None, 8, 8, 512)         2359808   \n",
      "_________________________________________________________________\n",
      "block5_conv2 (Conv2D)        (None, 8, 8, 512)         2359808   \n",
      "_________________________________________________________________\n",
      "block5_conv3 (Conv2D)        (None, 8, 8, 512)         2359808   \n",
      "_________________________________________________________________\n",
      "block5_pool (MaxPooling2D)   (None, 4, 4, 512)         0         \n",
      "=================================================================\n",
      "Total params: 14,714,688\n",
      "Trainable params: 0\n",
      "Non-trainable params: 14,714,688\n",
      "_________________________________________________________________\n",
      "_________________________________________________________________\n",
      "Layer (type)                 Output Shape              Param #   \n",
      "=================================================================\n",
      "flatten_2 (Flatten)          (None, 8192)              0         \n",
      "_________________________________________________________________\n",
      "batch_normalization_1 (Batch (None, 8192)              32768     \n",
      "_________________________________________________________________\n",
      "dense_3 (Dense)              (None, 64)                524352    \n",
      "_________________________________________________________________\n",
      "batch_normalization_2 (Batch (None, 64)                256       \n",
      "_________________________________________________________________\n",
      "dense_4 (Dense)              (None, 47)                3055      \n",
      "=================================================================\n",
      "Total params: 560,431\n",
      "Trainable params: 543,919\n",
      "Non-trainable params: 16,512\n",
      "_________________________________________________________________\n",
      "_________________________________________________________________\n",
      "Layer (type)                 Output Shape              Param #   \n",
      "=================================================================\n",
      "vgg16 (Model)                (None, 4, 4, 512)         14714688  \n",
      "_________________________________________________________________\n",
      "sequential_4 (Sequential)    (None, 47)                560431    \n",
      "=================================================================\n",
      "Total params: 15,275,119\n",
      "Trainable params: 543,919\n",
      "Non-trainable params: 14,731,200\n",
      "_________________________________________________________________\n"
     ]
    }
   ],
   "source": [
    "base.summary()\n",
    "top.summary()\n",
    "model.summary()"
   ]
  },
  {
   "cell_type": "code",
   "execution_count": 9,
   "metadata": {
    "colab": {},
    "colab_type": "code",
    "id": "tgBHAVMc5Dua"
   },
   "outputs": [
    {
     "data": {
      "image/png": "[encoded data removed]",
      "text/plain": [
       "<Figure size 864x288 with 2 Axes>"
      ]
     },
     "metadata": {
      "needs_background": "light"
     },
     "output_type": "display_data"
    }
   ],
   "source": [
    " # 透過趨勢圖來觀察訓練與驗證的走向 (特別去觀察是否有\"過擬合(overfitting)\"的現象)\n",
    "def plot_train_history(history, train_metrics, val_metrics):\n",
    "    plt.plot(history.history.get(train_metrics),'-o')\n",
    "    plt.plot(history.history.get(val_metrics),'-o')\n",
    "    plt.ylabel(train_metrics)\n",
    "    plt.xlabel('Epochs')\n",
    "    plt.legend(['train', 'validation'])\n",
    "    \n",
    "plt.figure(figsize=(12,4))\n",
    "plt.subplot(1,2,1);plot_train_history(history, 'loss','val_loss')\n",
    "plt.subplot(1,2,2);plot_train_history(history, 'acc','val_acc')\n",
    "fig = plt.gcf()# gcf: Get Current Figure\n",
    "plt.show();"
   ]
  }
 ],
 "metadata": {
  "accelerator": "GPU",
  "colab": {
   "collapsed_sections": [],
   "name": "oilking_V00.ipynb",
   "provenance": [],
   "version": "0.3.2"
  },
  "kernelspec": {
   "display_name": "Python 3",
   "language": "python",
   "name": "python3"
  },
  "language_info": {
   "codemirror_mode": {
    "name": "ipython",
    "version": 3
   },
   "file_extension": ".py",
   "mimetype": "text/x-python",
   "name": "python",
   "nbconvert_exporter": "python",
   "pygments_lexer": "ipython3",
   "version": "3.6.8"
  }
 },
 "nbformat": 4,
 "nbformat_minor": 1
}
