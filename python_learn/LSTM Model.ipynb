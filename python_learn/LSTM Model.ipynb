{
 "cells": [
  {
   "cell_type": "markdown",
   "metadata": {},
   "source": [
    "在這個模型中，我們將3個LSTM層疊在一起，使模型能夠學習更高層次的時間表示。\n",
    "前兩個LSTM返回完整的輸出序列，但最後一個只返回輸出序列的最後一步，從而降低了時間維度（即將輸入序列轉換成單個向量）。\n"
   ]
  },
  {
   "cell_type": "code",
   "execution_count": 1,
   "metadata": {},
   "outputs": [
    {
     "name": "stderr",
     "output_type": "stream",
     "text": [
      "Using TensorFlow backend.\n"
     ]
    },
    {
     "name": "stdout",
     "output_type": "stream",
     "text": [
      "Train on 1000 samples, validate on 100 samples\n",
      "Epoch 1/5\n",
      "1000/1000 [==============================] - 2s 2ms/step - loss: 11.4657 - acc: 0.0810 - val_loss: 11.5045 - val_acc: 0.1400\n",
      "Epoch 2/5\n",
      "1000/1000 [==============================] - 0s 157us/step - loss: 11.4641 - acc: 0.1070 - val_loss: 11.5077 - val_acc: 0.1000\n",
      "Epoch 3/5\n",
      "1000/1000 [==============================] - 0s 159us/step - loss: 11.4641 - acc: 0.1070 - val_loss: 11.5109 - val_acc: 0.1400\n",
      "Epoch 4/5\n",
      "1000/1000 [==============================] - 0s 147us/step - loss: 11.4637 - acc: 0.1120 - val_loss: 11.5085 - val_acc: 0.1300\n",
      "Epoch 5/5\n",
      "1000/1000 [==============================] - 0s 172us/step - loss: 11.4630 - acc: 0.1010 - val_loss: 11.5093 - val_acc: 0.1100\n"
     ]
    },
    {
     "data": {
      "text/plain": [
       "<keras.callbacks.History at 0x1e5fc44c828>"
      ]
     },
     "execution_count": 1,
     "metadata": {},
     "output_type": "execute_result"
    }
   ],
   "source": [
    "from keras.models import Sequential\n",
    "from keras.layers import LSTM, Dense\n",
    "import numpy as np\n",
    "\n",
    "data_dim = 16\n",
    "timesteps = 8\n",
    "num_classes = 10\n",
    "\n",
    "# 期望输入数据尺寸: (batch_size, timesteps, data_dim)\n",
    "model = Sequential()\n",
    "model.add(LSTM(32, return_sequences=True,\n",
    "               input_shape=(timesteps, data_dim)))  # 返回维度为 32 的向量序列\n",
    "model.add(LSTM(32, return_sequences=True))  # 返回维度为 32 的向量序列\n",
    "model.add(LSTM(32))  # 返回维度为 32 的单个向量\n",
    "model.add(Dense(10, activation='softmax'))\n",
    "\n",
    "model.compile(loss='categorical_crossentropy',\n",
    "              optimizer='rmsprop',\n",
    "              metrics=['accuracy'])\n",
    "\n",
    "# 生成虚拟训练数据\n",
    "x_train = np.random.random((1000, timesteps, data_dim))\n",
    "y_train = np.random.random((1000, num_classes))\n",
    "\n",
    "# 生成虚拟验证数据\n",
    "x_val = np.random.random((100, timesteps, data_dim))\n",
    "y_val = np.random.random((100, num_classes))\n",
    "\n",
    "model.fit(x_train, y_train,\n",
    "          batch_size=64, epochs=5,\n",
    "          validation_data=(x_val, y_val))\n",
    "\n"
   ]
  },
  {
   "cell_type": "markdown",
   "metadata": {},
   "source": [
    "帶有狀態（stateful）的相同的棧式LSTM模型\n",
    "有狀態的循環神經網絡模型中，在一個批次的樣本處理完成後，其內部狀態（記憶）會被記錄並作為下一個批次的樣本的初始狀態。這允許處理更長的序列，同時保持計算複雜度的可控性。\n"
   ]
  },
  {
   "cell_type": "code",
   "execution_count": 2,
   "metadata": {},
   "outputs": [
    {
     "name": "stdout",
     "output_type": "stream",
     "text": [
      "Train on 320 samples, validate on 96 samples\n",
      "Epoch 1/5\n",
      "320/320 [==============================] - 2s 6ms/step - loss: 11.5547 - acc: 0.0656 - val_loss: 11.4900 - val_acc: 0.0833\n",
      "Epoch 2/5\n",
      "320/320 [==============================] - 0s 229us/step - loss: 11.5497 - acc: 0.0719 - val_loss: 11.4905 - val_acc: 0.0625\n",
      "Epoch 3/5\n",
      "320/320 [==============================] - 0s 207us/step - loss: 11.5488 - acc: 0.1031 - val_loss: 11.4907 - val_acc: 0.0521\n",
      "Epoch 4/5\n",
      "320/320 [==============================] - 0s 195us/step - loss: 11.5480 - acc: 0.1031 - val_loss: 11.4909 - val_acc: 0.0521\n",
      "Epoch 5/5\n",
      "320/320 [==============================] - 0s 189us/step - loss: 11.5472 - acc: 0.1125 - val_loss: 11.4911 - val_acc: 0.0625\n"
     ]
    },
    {
     "data": {
      "text/plain": [
       "<keras.callbacks.History at 0x2988a54cb00>"
      ]
     },
     "execution_count": 2,
     "metadata": {},
     "output_type": "execute_result"
    }
   ],
   "source": [
    "from keras.models import Sequential\n",
    "from keras.layers import LSTM, Dense\n",
    "import numpy as np\n",
    "\n",
    "data_dim = 16\n",
    "timesteps = 8\n",
    "num_classes = 10\n",
    "batch_size = 32\n",
    "\n",
    "# 期望输入数据尺寸: (batch_size, timesteps, data_dim)\n",
    "# 请注意，我们必须提供完整的 batch_input_shape，因为网络是有状态的。\n",
    "# 第 k 批数据的第 i 个样本是第 k-1 批数据的第 i 个样本的后续。\n",
    "model = Sequential()\n",
    "model.add(LSTM(32, return_sequences=True, stateful=True,\n",
    "               batch_input_shape=(batch_size, timesteps, data_dim)))\n",
    "model.add(LSTM(32, return_sequences=True, stateful=True))\n",
    "model.add(LSTM(32, stateful=True))\n",
    "model.add(Dense(10, activation='softmax'))\n",
    "\n",
    "model.compile(loss='categorical_crossentropy',\n",
    "              optimizer='rmsprop',\n",
    "              metrics=['accuracy'])\n",
    "\n",
    "# 生成虚拟训练数据\n",
    "x_train = np.random.random((batch_size * 10, timesteps, data_dim))\n",
    "y_train = np.random.random((batch_size * 10, num_classes))\n",
    "\n",
    "# 生成虚拟验证数据\n",
    "x_val = np.random.random((batch_size * 3, timesteps, data_dim))\n",
    "y_val = np.random.random((batch_size * 3, num_classes))\n",
    "\n",
    "model.fit(x_train, y_train,\n",
    "          batch_size=batch_size, epochs=5, shuffle=False,\n",
    "          validation_data=(x_val, y_val))"
   ]
  },
  {
   "cell_type": "code",
   "execution_count": null,
   "metadata": {},
   "outputs": [],
   "source": []
  }
 ],
 "metadata": {
  "kernelspec": {
   "display_name": "Python 3",
   "language": "python",
   "name": "python3"
  },
  "language_info": {
   "codemirror_mode": {
    "name": "ipython",
    "version": 3
   },
   "file_extension": ".py",
   "mimetype": "text/x-python",
   "name": "python",
   "nbconvert_exporter": "python",
   "pygments_lexer": "ipython3",
   "version": "3.6.7"
  }
 },
 "nbformat": 4,
 "nbformat_minor": 2
}
